{
 "cells": [
  {
   "cell_type": "markdown",
   "metadata": {},
   "source": [
    "# Aviation Data Analysis\n",
    "\n",
    "## 1. Business Problem\n",
    "\n",
    "A company is expanding in to new industries to diversify its portfolio. Specifically, they are interested in purchasing and operating airplanes for commercial and private enterprises, but do not know anything about the potential risks of aircraft. We are charged with determining which aircraft are the lowest risk for the company to start this new business endeavor. We must then translate our findings into actionable insights that the head of the new aviation division can use to help decide which aircraft to purchase.\n",
    "\n",
    "### 1.1. Objectives\n",
    "\n",
    "The main objective we set out to achieve is to determine:\n",
    ">  which aircraft has the lowest risk and most suitable for a new business venture. \n",
    "\n",
    "We will set out to do this by answering the following main objectives:\n",
    "\n",
    "- Identifying and characterising aircraft safety risks\n",
    "- Understanding the factors contributing to aircraft incidents\n",
    "\n",
    "This will then be broken down in the following way:\n",
    "\n",
    "#### 1.1.1. Aircraft characteristics and patterns\n",
    "- Identify the most common aircraft makes and models\n",
    "- Pinpoint aircraft with the lowest incident rates\n",
    "- Analyze safety correlations with:\n",
    "    - Aircraft type\n",
    "    - Number of engines\n",
    "    - Engine types\n",
    "\n",
    "#### 1.1.2. Environmentals factors and patterns\n",
    "- Investigate the relationship between weather conditions and aircraft safety\n",
    "- Assess whether aircraft safety has improved or declined over time \n",
    "\n",
    "#### 1.1.3 Accident and Injury Analysis\n",
    "- Analyse the distribution of accidents across different aircraft carriers\n",
    "- Compare injury severities:\n",
    "    - Fatal injuries\n",
    "    - Serious injuries\n",
    "    - Minor injuries\n",
    "- Investigate variations in injury patterns among different carriers\n",
    "- What's the relationship between aircraft damage level vs injury severity\n",
    "\n",
    "### Expected Outcome\n",
    "\n",
    "We expect to gain a comprehensive risk profile for different aircraft carriers and which particular aircraft is the best for a new business venture.\n",
    "\n",
    "\n"
   ]
  },
  {
   "cell_type": "markdown",
   "metadata": {},
   "source": [
    "## 2. Data Understanding\n",
    "\n",
    "The [dataset](https://www.kaggle.com/datasets/khsamaha/aviation-accident-database-synopses) we've been provided is from the National Transportation Safety Board that includes aviation accident data from 1962 to 2023 about civil aviation accidents and selected incidents in the United States and international waters.\n",
    "\n",
    "This section will include:\n",
    "- Data Description\n",
    "- Data Exploration\n",
    "- Data Quality\n",
    "\n",
    "### 2.1. Data Description\n",
    "\n",
    "The data dictionary of the dataset is as follows:\n",
    "\n",
    "**Different file with the full data dictionary\n",
    "\n",
    "\n",
    "*load libraries*"
   ]
  },
  {
   "cell_type": "code",
   "execution_count": 158,
   "metadata": {},
   "outputs": [],
   "source": [
    "# Data Analysis\n",
    "import pandas as pd\n",
    "import numpy as np\n",
    "\n",
    "# Data Visualisation\n",
    "import matplotlib.pyplot as plt\n",
    "import seaborn as sns\n",
    "import missingno as msno\n",
    "\n",
    "# Settings\n",
    "pd.set_option('display.max_rows', 100)\n",
    "# sns.set(style='whitegrid')\n",
    "\n",
    "# Configure visualisations\n",
    "%matplotlib inline"
   ]
  },
  {
   "cell_type": "code",
   "execution_count": 3,
   "metadata": {},
   "outputs": [
    {
     "name": "stdout",
     "output_type": "stream",
     "text": [
      "(90348, 31)\n"
     ]
    },
    {
     "name": "stderr",
     "output_type": "stream",
     "text": [
      "/var/folders/rs/11qpr4qj5r5_0n7b0yg8xgp40000gn/T/ipykernel_4200/2531020676.py:1: DtypeWarning: Columns (6,7,28) have mixed types. Specify dtype option on import or set low_memory=False.\n",
      "  df = pd.read_csv(\"aircraft_safety/data/Aviation_Data.csv\")\n"
     ]
    },
    {
     "data": {
      "application/vnd.microsoft.datawrangler.viewer.v0+json": {
       "columns": [
        {
         "name": "index",
         "rawType": "int64",
         "type": "integer"
        },
        {
         "name": "Event.Id",
         "rawType": "object",
         "type": "string"
        },
        {
         "name": "Investigation.Type",
         "rawType": "object",
         "type": "string"
        },
        {
         "name": "Accident.Number",
         "rawType": "object",
         "type": "string"
        },
        {
         "name": "Event.Date",
         "rawType": "object",
         "type": "string"
        },
        {
         "name": "Location",
         "rawType": "object",
         "type": "string"
        },
        {
         "name": "Country",
         "rawType": "object",
         "type": "string"
        },
        {
         "name": "Latitude",
         "rawType": "object",
         "type": "unknown"
        },
        {
         "name": "Longitude",
         "rawType": "object",
         "type": "unknown"
        },
        {
         "name": "Airport.Code",
         "rawType": "object",
         "type": "unknown"
        },
        {
         "name": "Airport.Name",
         "rawType": "object",
         "type": "unknown"
        },
        {
         "name": "Injury.Severity",
         "rawType": "object",
         "type": "string"
        },
        {
         "name": "Aircraft.damage",
         "rawType": "object",
         "type": "string"
        },
        {
         "name": "Aircraft.Category",
         "rawType": "object",
         "type": "unknown"
        },
        {
         "name": "Registration.Number",
         "rawType": "object",
         "type": "string"
        },
        {
         "name": "Make",
         "rawType": "object",
         "type": "string"
        },
        {
         "name": "Model",
         "rawType": "object",
         "type": "string"
        },
        {
         "name": "Amateur.Built",
         "rawType": "object",
         "type": "string"
        },
        {
         "name": "Number.of.Engines",
         "rawType": "float64",
         "type": "float"
        },
        {
         "name": "Engine.Type",
         "rawType": "object",
         "type": "unknown"
        },
        {
         "name": "FAR.Description",
         "rawType": "object",
         "type": "unknown"
        },
        {
         "name": "Schedule",
         "rawType": "object",
         "type": "unknown"
        },
        {
         "name": "Purpose.of.flight",
         "rawType": "object",
         "type": "string"
        },
        {
         "name": "Air.carrier",
         "rawType": "object",
         "type": "unknown"
        },
        {
         "name": "Total.Fatal.Injuries",
         "rawType": "float64",
         "type": "float"
        },
        {
         "name": "Total.Serious.Injuries",
         "rawType": "float64",
         "type": "float"
        },
        {
         "name": "Total.Minor.Injuries",
         "rawType": "float64",
         "type": "float"
        },
        {
         "name": "Total.Uninjured",
         "rawType": "float64",
         "type": "float"
        },
        {
         "name": "Weather.Condition",
         "rawType": "object",
         "type": "string"
        },
        {
         "name": "Broad.phase.of.flight",
         "rawType": "object",
         "type": "string"
        },
        {
         "name": "Report.Status",
         "rawType": "object",
         "type": "string"
        },
        {
         "name": "Publication.Date",
         "rawType": "object",
         "type": "unknown"
        }
       ],
       "conversionMethod": "pd.DataFrame",
       "ref": "826ebe55-c623-447c-b318-77540b718867",
       "rows": [
        [
         "0",
         "20001218X45444",
         "Accident",
         "SEA87LA080",
         "1948-10-24",
         "MOOSE CREEK, ID",
         "United States",
         null,
         null,
         null,
         null,
         "Fatal(2)",
         "Destroyed",
         null,
         "NC6404",
         "Stinson",
         "108-3",
         "No",
         "1.0",
         "Reciprocating",
         null,
         null,
         "Personal",
         null,
         "2.0",
         "0.0",
         "0.0",
         "0.0",
         "UNK",
         "Cruise",
         "Probable Cause",
         null
        ],
        [
         "1",
         "20001218X45447",
         "Accident",
         "LAX94LA336",
         "1962-07-19",
         "BRIDGEPORT, CA",
         "United States",
         null,
         null,
         null,
         null,
         "Fatal(4)",
         "Destroyed",
         null,
         "N5069P",
         "Piper",
         "PA24-180",
         "No",
         "1.0",
         "Reciprocating",
         null,
         null,
         "Personal",
         null,
         "4.0",
         "0.0",
         "0.0",
         "0.0",
         "UNK",
         "Unknown",
         "Probable Cause",
         "19-09-1996"
        ],
        [
         "2",
         "20061025X01555",
         "Accident",
         "NYC07LA005",
         "1974-08-30",
         "Saltville, VA",
         "United States",
         "36.922223",
         "-81.878056",
         null,
         null,
         "Fatal(3)",
         "Destroyed",
         null,
         "N5142R",
         "Cessna",
         "172M",
         "No",
         "1.0",
         "Reciprocating",
         null,
         null,
         "Personal",
         null,
         "3.0",
         null,
         null,
         null,
         "IMC",
         "Cruise",
         "Probable Cause",
         "26-02-2007"
        ],
        [
         "3",
         "20001218X45448",
         "Accident",
         "LAX96LA321",
         "1977-06-19",
         "EUREKA, CA",
         "United States",
         null,
         null,
         null,
         null,
         "Fatal(2)",
         "Destroyed",
         null,
         "N1168J",
         "Rockwell",
         "112",
         "No",
         "1.0",
         "Reciprocating",
         null,
         null,
         "Personal",
         null,
         "2.0",
         "0.0",
         "0.0",
         "0.0",
         "IMC",
         "Cruise",
         "Probable Cause",
         "12-09-2000"
        ],
        [
         "4",
         "20041105X01764",
         "Accident",
         "CHI79FA064",
         "1979-08-02",
         "Canton, OH",
         "United States",
         null,
         null,
         null,
         null,
         "Fatal(1)",
         "Destroyed",
         null,
         "N15NY",
         "Cessna",
         "501",
         "No",
         null,
         null,
         null,
         null,
         "Personal",
         null,
         "1.0",
         "2.0",
         null,
         "0.0",
         "VMC",
         "Approach",
         "Probable Cause",
         "16-04-1980"
        ]
       ],
       "shape": {
        "columns": 31,
        "rows": 5
       }
      },
      "text/html": [
       "<div>\n",
       "<style scoped>\n",
       "    .dataframe tbody tr th:only-of-type {\n",
       "        vertical-align: middle;\n",
       "    }\n",
       "\n",
       "    .dataframe tbody tr th {\n",
       "        vertical-align: top;\n",
       "    }\n",
       "\n",
       "    .dataframe thead th {\n",
       "        text-align: right;\n",
       "    }\n",
       "</style>\n",
       "<table border=\"1\" class=\"dataframe\">\n",
       "  <thead>\n",
       "    <tr style=\"text-align: right;\">\n",
       "      <th></th>\n",
       "      <th>Event.Id</th>\n",
       "      <th>Investigation.Type</th>\n",
       "      <th>Accident.Number</th>\n",
       "      <th>Event.Date</th>\n",
       "      <th>Location</th>\n",
       "      <th>Country</th>\n",
       "      <th>Latitude</th>\n",
       "      <th>Longitude</th>\n",
       "      <th>Airport.Code</th>\n",
       "      <th>Airport.Name</th>\n",
       "      <th>...</th>\n",
       "      <th>Purpose.of.flight</th>\n",
       "      <th>Air.carrier</th>\n",
       "      <th>Total.Fatal.Injuries</th>\n",
       "      <th>Total.Serious.Injuries</th>\n",
       "      <th>Total.Minor.Injuries</th>\n",
       "      <th>Total.Uninjured</th>\n",
       "      <th>Weather.Condition</th>\n",
       "      <th>Broad.phase.of.flight</th>\n",
       "      <th>Report.Status</th>\n",
       "      <th>Publication.Date</th>\n",
       "    </tr>\n",
       "  </thead>\n",
       "  <tbody>\n",
       "    <tr>\n",
       "      <th>0</th>\n",
       "      <td>20001218X45444</td>\n",
       "      <td>Accident</td>\n",
       "      <td>SEA87LA080</td>\n",
       "      <td>1948-10-24</td>\n",
       "      <td>MOOSE CREEK, ID</td>\n",
       "      <td>United States</td>\n",
       "      <td>NaN</td>\n",
       "      <td>NaN</td>\n",
       "      <td>NaN</td>\n",
       "      <td>NaN</td>\n",
       "      <td>...</td>\n",
       "      <td>Personal</td>\n",
       "      <td>NaN</td>\n",
       "      <td>2.0</td>\n",
       "      <td>0.0</td>\n",
       "      <td>0.0</td>\n",
       "      <td>0.0</td>\n",
       "      <td>UNK</td>\n",
       "      <td>Cruise</td>\n",
       "      <td>Probable Cause</td>\n",
       "      <td>NaN</td>\n",
       "    </tr>\n",
       "    <tr>\n",
       "      <th>1</th>\n",
       "      <td>20001218X45447</td>\n",
       "      <td>Accident</td>\n",
       "      <td>LAX94LA336</td>\n",
       "      <td>1962-07-19</td>\n",
       "      <td>BRIDGEPORT, CA</td>\n",
       "      <td>United States</td>\n",
       "      <td>NaN</td>\n",
       "      <td>NaN</td>\n",
       "      <td>NaN</td>\n",
       "      <td>NaN</td>\n",
       "      <td>...</td>\n",
       "      <td>Personal</td>\n",
       "      <td>NaN</td>\n",
       "      <td>4.0</td>\n",
       "      <td>0.0</td>\n",
       "      <td>0.0</td>\n",
       "      <td>0.0</td>\n",
       "      <td>UNK</td>\n",
       "      <td>Unknown</td>\n",
       "      <td>Probable Cause</td>\n",
       "      <td>19-09-1996</td>\n",
       "    </tr>\n",
       "    <tr>\n",
       "      <th>2</th>\n",
       "      <td>20061025X01555</td>\n",
       "      <td>Accident</td>\n",
       "      <td>NYC07LA005</td>\n",
       "      <td>1974-08-30</td>\n",
       "      <td>Saltville, VA</td>\n",
       "      <td>United States</td>\n",
       "      <td>36.922223</td>\n",
       "      <td>-81.878056</td>\n",
       "      <td>NaN</td>\n",
       "      <td>NaN</td>\n",
       "      <td>...</td>\n",
       "      <td>Personal</td>\n",
       "      <td>NaN</td>\n",
       "      <td>3.0</td>\n",
       "      <td>NaN</td>\n",
       "      <td>NaN</td>\n",
       "      <td>NaN</td>\n",
       "      <td>IMC</td>\n",
       "      <td>Cruise</td>\n",
       "      <td>Probable Cause</td>\n",
       "      <td>26-02-2007</td>\n",
       "    </tr>\n",
       "    <tr>\n",
       "      <th>3</th>\n",
       "      <td>20001218X45448</td>\n",
       "      <td>Accident</td>\n",
       "      <td>LAX96LA321</td>\n",
       "      <td>1977-06-19</td>\n",
       "      <td>EUREKA, CA</td>\n",
       "      <td>United States</td>\n",
       "      <td>NaN</td>\n",
       "      <td>NaN</td>\n",
       "      <td>NaN</td>\n",
       "      <td>NaN</td>\n",
       "      <td>...</td>\n",
       "      <td>Personal</td>\n",
       "      <td>NaN</td>\n",
       "      <td>2.0</td>\n",
       "      <td>0.0</td>\n",
       "      <td>0.0</td>\n",
       "      <td>0.0</td>\n",
       "      <td>IMC</td>\n",
       "      <td>Cruise</td>\n",
       "      <td>Probable Cause</td>\n",
       "      <td>12-09-2000</td>\n",
       "    </tr>\n",
       "    <tr>\n",
       "      <th>4</th>\n",
       "      <td>20041105X01764</td>\n",
       "      <td>Accident</td>\n",
       "      <td>CHI79FA064</td>\n",
       "      <td>1979-08-02</td>\n",
       "      <td>Canton, OH</td>\n",
       "      <td>United States</td>\n",
       "      <td>NaN</td>\n",
       "      <td>NaN</td>\n",
       "      <td>NaN</td>\n",
       "      <td>NaN</td>\n",
       "      <td>...</td>\n",
       "      <td>Personal</td>\n",
       "      <td>NaN</td>\n",
       "      <td>1.0</td>\n",
       "      <td>2.0</td>\n",
       "      <td>NaN</td>\n",
       "      <td>0.0</td>\n",
       "      <td>VMC</td>\n",
       "      <td>Approach</td>\n",
       "      <td>Probable Cause</td>\n",
       "      <td>16-04-1980</td>\n",
       "    </tr>\n",
       "  </tbody>\n",
       "</table>\n",
       "<p>5 rows × 31 columns</p>\n",
       "</div>"
      ],
      "text/plain": [
       "         Event.Id Investigation.Type Accident.Number  Event.Date  \\\n",
       "0  20001218X45444           Accident      SEA87LA080  1948-10-24   \n",
       "1  20001218X45447           Accident      LAX94LA336  1962-07-19   \n",
       "2  20061025X01555           Accident      NYC07LA005  1974-08-30   \n",
       "3  20001218X45448           Accident      LAX96LA321  1977-06-19   \n",
       "4  20041105X01764           Accident      CHI79FA064  1979-08-02   \n",
       "\n",
       "          Location        Country   Latitude  Longitude Airport.Code  \\\n",
       "0  MOOSE CREEK, ID  United States        NaN        NaN          NaN   \n",
       "1   BRIDGEPORT, CA  United States        NaN        NaN          NaN   \n",
       "2    Saltville, VA  United States  36.922223 -81.878056          NaN   \n",
       "3       EUREKA, CA  United States        NaN        NaN          NaN   \n",
       "4       Canton, OH  United States        NaN        NaN          NaN   \n",
       "\n",
       "  Airport.Name  ... Purpose.of.flight Air.carrier Total.Fatal.Injuries  \\\n",
       "0          NaN  ...          Personal         NaN                  2.0   \n",
       "1          NaN  ...          Personal         NaN                  4.0   \n",
       "2          NaN  ...          Personal         NaN                  3.0   \n",
       "3          NaN  ...          Personal         NaN                  2.0   \n",
       "4          NaN  ...          Personal         NaN                  1.0   \n",
       "\n",
       "  Total.Serious.Injuries Total.Minor.Injuries Total.Uninjured  \\\n",
       "0                    0.0                  0.0             0.0   \n",
       "1                    0.0                  0.0             0.0   \n",
       "2                    NaN                  NaN             NaN   \n",
       "3                    0.0                  0.0             0.0   \n",
       "4                    2.0                  NaN             0.0   \n",
       "\n",
       "  Weather.Condition  Broad.phase.of.flight   Report.Status Publication.Date  \n",
       "0               UNK                 Cruise  Probable Cause              NaN  \n",
       "1               UNK                Unknown  Probable Cause       19-09-1996  \n",
       "2               IMC                 Cruise  Probable Cause       26-02-2007  \n",
       "3               IMC                 Cruise  Probable Cause       12-09-2000  \n",
       "4               VMC               Approach  Probable Cause       16-04-1980  \n",
       "\n",
       "[5 rows x 31 columns]"
      ]
     },
     "execution_count": 3,
     "metadata": {},
     "output_type": "execute_result"
    }
   ],
   "source": [
    "df = pd.read_csv(\"aircraft_safety/data/Aviation_Data.csv\")\n",
    "print(df.shape)\n",
    "df.head()"
   ]
  },
  {
   "cell_type": "markdown",
   "metadata": {},
   "source": [
    "We can see a high level overview of our data and that we have 90,348 rows and 31 columns\n",
    "\n",
    "**Summary of data**"
   ]
  },
  {
   "cell_type": "code",
   "execution_count": 4,
   "metadata": {},
   "outputs": [
    {
     "name": "stdout",
     "output_type": "stream",
     "text": [
      "<class 'pandas.core.frame.DataFrame'>\n",
      "RangeIndex: 90348 entries, 0 to 90347\n",
      "Data columns (total 31 columns):\n",
      " #   Column                  Non-Null Count  Dtype  \n",
      "---  ------                  --------------  -----  \n",
      " 0   Event.Id                88889 non-null  object \n",
      " 1   Investigation.Type      90348 non-null  object \n",
      " 2   Accident.Number         88889 non-null  object \n",
      " 3   Event.Date              88889 non-null  object \n",
      " 4   Location                88837 non-null  object \n",
      " 5   Country                 88663 non-null  object \n",
      " 6   Latitude                34382 non-null  object \n",
      " 7   Longitude               34373 non-null  object \n",
      " 8   Airport.Code            50132 non-null  object \n",
      " 9   Airport.Name            52704 non-null  object \n",
      " 10  Injury.Severity         87889 non-null  object \n",
      " 11  Aircraft.damage         85695 non-null  object \n",
      " 12  Aircraft.Category       32287 non-null  object \n",
      " 13  Registration.Number     87507 non-null  object \n",
      " 14  Make                    88826 non-null  object \n",
      " 15  Model                   88797 non-null  object \n",
      " 16  Amateur.Built           88787 non-null  object \n",
      " 17  Number.of.Engines       82805 non-null  float64\n",
      " 18  Engine.Type             81793 non-null  object \n",
      " 19  FAR.Description         32023 non-null  object \n",
      " 20  Schedule                12582 non-null  object \n",
      " 21  Purpose.of.flight       82697 non-null  object \n",
      " 22  Air.carrier             16648 non-null  object \n",
      " 23  Total.Fatal.Injuries    77488 non-null  float64\n",
      " 24  Total.Serious.Injuries  76379 non-null  float64\n",
      " 25  Total.Minor.Injuries    76956 non-null  float64\n",
      " 26  Total.Uninjured         82977 non-null  float64\n",
      " 27  Weather.Condition       84397 non-null  object \n",
      " 28  Broad.phase.of.flight   61724 non-null  object \n",
      " 29  Report.Status           82505 non-null  object \n",
      " 30  Publication.Date        73659 non-null  object \n",
      "dtypes: float64(5), object(26)\n",
      "memory usage: 21.4+ MB\n"
     ]
    }
   ],
   "source": [
    "df.info()"
   ]
  },
  {
   "cell_type": "markdown",
   "metadata": {},
   "source": [
    "From this we can see nearly all columns have missing data except the 'Investigation.Type'\n",
    "We can also see the formats of the data are as we expect with most being text and a few numerical columns"
   ]
  },
  {
   "cell_type": "code",
   "execution_count": 5,
   "metadata": {},
   "outputs": [
    {
     "data": {
      "application/vnd.microsoft.datawrangler.viewer.v0+json": {
       "columns": [
        {
         "name": "index",
         "rawType": "object",
         "type": "string"
        },
        {
         "name": "Number.of.Engines",
         "rawType": "float64",
         "type": "float"
        },
        {
         "name": "Total.Fatal.Injuries",
         "rawType": "float64",
         "type": "float"
        },
        {
         "name": "Total.Serious.Injuries",
         "rawType": "float64",
         "type": "float"
        },
        {
         "name": "Total.Minor.Injuries",
         "rawType": "float64",
         "type": "float"
        },
        {
         "name": "Total.Uninjured",
         "rawType": "float64",
         "type": "float"
        }
       ],
       "conversionMethod": "pd.DataFrame",
       "ref": "fcf27e87-357c-4785-a1f1-e6497a32a527",
       "rows": [
        [
         "count",
         "82805.0",
         "77488.0",
         "76379.0",
         "76956.0",
         "82977.0"
        ],
        [
         "mean",
         "1.1465853511261397",
         "0.6478551517654346",
         "0.27988059545162935",
         "0.3570611778158948",
         "5.325439579642552"
        ],
        [
         "std",
         "0.4465102138196286",
         "5.485960107559197",
         "1.5440836452335867",
         "2.235625319656934",
         "27.913634431008564"
        ],
        [
         "min",
         "0.0",
         "0.0",
         "0.0",
         "0.0",
         "0.0"
        ],
        [
         "25%",
         "1.0",
         "0.0",
         "0.0",
         "0.0",
         "0.0"
        ],
        [
         "50%",
         "1.0",
         "0.0",
         "0.0",
         "0.0",
         "1.0"
        ],
        [
         "75%",
         "1.0",
         "0.0",
         "0.0",
         "0.0",
         "2.0"
        ],
        [
         "max",
         "8.0",
         "349.0",
         "161.0",
         "380.0",
         "699.0"
        ]
       ],
       "shape": {
        "columns": 5,
        "rows": 8
       }
      },
      "text/html": [
       "<div>\n",
       "<style scoped>\n",
       "    .dataframe tbody tr th:only-of-type {\n",
       "        vertical-align: middle;\n",
       "    }\n",
       "\n",
       "    .dataframe tbody tr th {\n",
       "        vertical-align: top;\n",
       "    }\n",
       "\n",
       "    .dataframe thead th {\n",
       "        text-align: right;\n",
       "    }\n",
       "</style>\n",
       "<table border=\"1\" class=\"dataframe\">\n",
       "  <thead>\n",
       "    <tr style=\"text-align: right;\">\n",
       "      <th></th>\n",
       "      <th>Number.of.Engines</th>\n",
       "      <th>Total.Fatal.Injuries</th>\n",
       "      <th>Total.Serious.Injuries</th>\n",
       "      <th>Total.Minor.Injuries</th>\n",
       "      <th>Total.Uninjured</th>\n",
       "    </tr>\n",
       "  </thead>\n",
       "  <tbody>\n",
       "    <tr>\n",
       "      <th>count</th>\n",
       "      <td>82805.000000</td>\n",
       "      <td>77488.000000</td>\n",
       "      <td>76379.000000</td>\n",
       "      <td>76956.000000</td>\n",
       "      <td>82977.000000</td>\n",
       "    </tr>\n",
       "    <tr>\n",
       "      <th>mean</th>\n",
       "      <td>1.146585</td>\n",
       "      <td>0.647855</td>\n",
       "      <td>0.279881</td>\n",
       "      <td>0.357061</td>\n",
       "      <td>5.325440</td>\n",
       "    </tr>\n",
       "    <tr>\n",
       "      <th>std</th>\n",
       "      <td>0.446510</td>\n",
       "      <td>5.485960</td>\n",
       "      <td>1.544084</td>\n",
       "      <td>2.235625</td>\n",
       "      <td>27.913634</td>\n",
       "    </tr>\n",
       "    <tr>\n",
       "      <th>min</th>\n",
       "      <td>0.000000</td>\n",
       "      <td>0.000000</td>\n",
       "      <td>0.000000</td>\n",
       "      <td>0.000000</td>\n",
       "      <td>0.000000</td>\n",
       "    </tr>\n",
       "    <tr>\n",
       "      <th>25%</th>\n",
       "      <td>1.000000</td>\n",
       "      <td>0.000000</td>\n",
       "      <td>0.000000</td>\n",
       "      <td>0.000000</td>\n",
       "      <td>0.000000</td>\n",
       "    </tr>\n",
       "    <tr>\n",
       "      <th>50%</th>\n",
       "      <td>1.000000</td>\n",
       "      <td>0.000000</td>\n",
       "      <td>0.000000</td>\n",
       "      <td>0.000000</td>\n",
       "      <td>1.000000</td>\n",
       "    </tr>\n",
       "    <tr>\n",
       "      <th>75%</th>\n",
       "      <td>1.000000</td>\n",
       "      <td>0.000000</td>\n",
       "      <td>0.000000</td>\n",
       "      <td>0.000000</td>\n",
       "      <td>2.000000</td>\n",
       "    </tr>\n",
       "    <tr>\n",
       "      <th>max</th>\n",
       "      <td>8.000000</td>\n",
       "      <td>349.000000</td>\n",
       "      <td>161.000000</td>\n",
       "      <td>380.000000</td>\n",
       "      <td>699.000000</td>\n",
       "    </tr>\n",
       "  </tbody>\n",
       "</table>\n",
       "</div>"
      ],
      "text/plain": [
       "       Number.of.Engines  Total.Fatal.Injuries  Total.Serious.Injuries  \\\n",
       "count       82805.000000          77488.000000            76379.000000   \n",
       "mean            1.146585              0.647855                0.279881   \n",
       "std             0.446510              5.485960                1.544084   \n",
       "min             0.000000              0.000000                0.000000   \n",
       "25%             1.000000              0.000000                0.000000   \n",
       "50%             1.000000              0.000000                0.000000   \n",
       "75%             1.000000              0.000000                0.000000   \n",
       "max             8.000000            349.000000              161.000000   \n",
       "\n",
       "       Total.Minor.Injuries  Total.Uninjured  \n",
       "count          76956.000000     82977.000000  \n",
       "mean               0.357061         5.325440  \n",
       "std                2.235625        27.913634  \n",
       "min                0.000000         0.000000  \n",
       "25%                0.000000         0.000000  \n",
       "50%                0.000000         1.000000  \n",
       "75%                0.000000         2.000000  \n",
       "max              380.000000       699.000000  "
      ]
     },
     "execution_count": 5,
     "metadata": {},
     "output_type": "execute_result"
    }
   ],
   "source": [
    "# Numerical summary stats\n",
    "df.describe()"
   ]
  },
  {
   "cell_type": "markdown",
   "metadata": {},
   "source": [
    "From the general summary statistics  of the numerical columns we can see the min, max of columns amongst other statistics and from the overview above, the data looks okay with no obvious outliers, but this will be further investigated.\n",
    "\n",
    "### 2.2. Data Exploration"
   ]
  },
  {
   "cell_type": "code",
   "execution_count": 6,
   "metadata": {},
   "outputs": [
    {
     "data": {
      "text/plain": [
       "Event.Id                   1459\n",
       "Investigation.Type            0\n",
       "Accident.Number            1459\n",
       "Event.Date                 1459\n",
       "Location                   1511\n",
       "Country                    1685\n",
       "Latitude                  55966\n",
       "Longitude                 55975\n",
       "Airport.Code              40216\n",
       "Airport.Name              37644\n",
       "Injury.Severity            2459\n",
       "Aircraft.damage            4653\n",
       "Aircraft.Category         58061\n",
       "Registration.Number        2841\n",
       "Make                       1522\n",
       "Model                      1551\n",
       "Amateur.Built              1561\n",
       "Number.of.Engines          7543\n",
       "Engine.Type                8555\n",
       "FAR.Description           58325\n",
       "Schedule                  77766\n",
       "Purpose.of.flight          7651\n",
       "Air.carrier               73700\n",
       "Total.Fatal.Injuries      12860\n",
       "Total.Serious.Injuries    13969\n",
       "Total.Minor.Injuries      13392\n",
       "Total.Uninjured            7371\n",
       "Weather.Condition          5951\n",
       "Broad.phase.of.flight     28624\n",
       "Report.Status              7843\n",
       "Publication.Date          16689\n",
       "dtype: int64"
      ]
     },
     "execution_count": 6,
     "metadata": {},
     "output_type": "execute_result"
    }
   ],
   "source": [
    "# Checking for missing values\n",
    "df.isna().sum()"
   ]
  },
  {
   "cell_type": "code",
   "execution_count": 7,
   "metadata": {},
   "outputs": [
    {
     "data": {
      "image/png": "[encoded data removed]",
      "text/plain": [
       "<Figure size 2500x1000 with 3 Axes>"
      ]
     },
     "metadata": {},
     "output_type": "display_data"
    }
   ],
   "source": [
    "# Visualising missing values\n",
    "\n",
    "msno.bar(df, color=\"steelblue\");"
   ]
  },
  {
   "cell_type": "markdown",
   "metadata": {},
   "source": [
    "We can see nearly all columns have missing data and we will remove some in the next stage or impute over the missing one."
   ]
  },
  {
   "cell_type": "code",
   "execution_count": 8,
   "metadata": {},
   "outputs": [
    {
     "data": {
      "text/plain": [
       "np.int64(2396)"
      ]
     },
     "execution_count": 8,
     "metadata": {},
     "output_type": "execute_result"
    }
   ],
   "source": [
    "# Duplicates\n",
    "df[\"Event.Id\"].duplicated().sum()"
   ]
  },
  {
   "cell_type": "code",
   "execution_count": 9,
   "metadata": {},
   "outputs": [
    {
     "data": {
      "text/plain": [
       "np.int64(1484)"
      ]
     },
     "execution_count": 9,
     "metadata": {},
     "output_type": "execute_result"
    }
   ],
   "source": [
    "df[\"Accident.Number\"].duplicated().sum()"
   ]
  },
  {
   "cell_type": "code",
   "execution_count": 10,
   "metadata": {},
   "outputs": [
    {
     "data": {
      "text/plain": [
       "np.int64(11243)"
      ]
     },
     "execution_count": 10,
     "metadata": {},
     "output_type": "execute_result"
    }
   ],
   "source": [
    "df[\"Registration.Number\"].duplicated().sum()"
   ]
  },
  {
   "cell_type": "markdown",
   "metadata": {},
   "source": [
    "After looking at some columns where we expected to find no duplicated such as the Event.Id or the Accident.Number we can see that some of the rows are duplicated and this could be a mistake but would be investigated later.\n",
    "\n",
    "In addition, we can see that 11,243 aircraft registration numbers have been duplicated. This could mean they had a slight accident and could operate once again before another crash. "
   ]
  },
  {
   "cell_type": "code",
   "execution_count": 11,
   "metadata": {},
   "outputs": [
    {
     "data": {
      "text/plain": [
       "array(['United States', nan, 'GULF OF MEXICO', 'Puerto Rico',\n",
       "       'ATLANTIC OCEAN', 'HIGH ISLAND', 'Bahamas', 'MISSING', 'Pakistan',\n",
       "       'Angola', 'Germany', 'Korea, Republic Of', 'Martinique',\n",
       "       'American Samoa', 'PACIFIC OCEAN', 'Canada', 'Bolivia', 'Mexico',\n",
       "       'Dominica', 'Netherlands Antilles', 'Iceland', 'Greece', 'Guam',\n",
       "       'Australia', 'CARIBBEAN SEA', 'West Indies', 'Japan',\n",
       "       'Philippines', 'Venezuela', 'Bermuda', 'San Juan Islands',\n",
       "       'Colombia', 'El Salvador', 'United Kingdom',\n",
       "       'British Virgin Islands', 'Netherlands', 'Costa Rica',\n",
       "       'Mozambique', 'Jamaica', 'Panama', 'Guyana', 'Norway', 'Hong Kong',\n",
       "       'Portugal', 'Malaysia', 'Turks And Caicos Islands',\n",
       "       'Northern Mariana Islands', 'Dominican Republic', 'Suriname',\n",
       "       'Honduras', 'Congo', 'Belize', 'Guatemala', 'Anguilla', 'France',\n",
       "       'St Vincent And The Grenadines', 'Haiti', 'Montserrat',\n",
       "       'Papua New Guinea', 'Cayman Islands', 'Sweden', 'Taiwan',\n",
       "       'Senegal', 'Barbados', 'BLOCK 651A', 'Brazil', 'Mauritius',\n",
       "       'Argentina', 'Kenya', 'Ecuador', 'Aruba', 'Saudi Arabia', 'Cuba',\n",
       "       'Italy', 'French Guiana', 'Denmark', 'Sudan', 'Spain',\n",
       "       'Federated States Of Micronesia', 'St Lucia', 'Switzerland',\n",
       "       'Central African Republic', 'Algeria', 'Turkey', 'Nicaragua',\n",
       "       'Marshall Islands', 'Trinidad And Tobago', 'Poland', 'Belarus',\n",
       "       'Austria', 'Malta', 'Cameroon', 'Solomon Islands', 'Zambia',\n",
       "       'Peru', 'Croatia', 'Fiji', 'South Africa', 'India', 'Ethiopia',\n",
       "       'Ireland', 'Chile', 'Antigua And Barbuda', 'Uganda', 'China',\n",
       "       'Cambodia', 'Paraguay', 'Thailand', 'Belgium', 'Gambia', 'Uruguay',\n",
       "       'Tanzania', 'Mali', 'Indonesia', 'Bahrain', 'Kazakhstan', 'Egypt',\n",
       "       'Russia', 'Cyprus', \"Cote D'ivoire\", 'Nigeria', 'Greenland',\n",
       "       'Vietnam', 'New Zealand', 'Singapore', 'Ghana', 'Gabon', 'Nepal',\n",
       "       'Slovakia', 'Finland', 'Liberia', 'Romania', 'Maldives',\n",
       "       'Antarctica', 'Zimbabwe', 'Botswana', 'Isle of Man', 'Latvia',\n",
       "       'Niger', 'French Polynesia', 'Guadeloupe', 'Ivory Coast',\n",
       "       'Tunisia', 'Eritrea', 'Gibraltar', 'Namibia', 'Czech Republic',\n",
       "       'Benin', 'Bosnia And Herzegovina', 'Israel', 'Estonia',\n",
       "       'St Kitts And Nevis', 'Sierra Leone', 'Corsica', 'Scotland',\n",
       "       'Reunion', 'United Arab Emirates', 'Afghanistan', 'Ukraine',\n",
       "       'Hungary', 'Bangladesh', 'Morocco', 'Iraq', 'Jordan', 'Qatar',\n",
       "       'Madagascar', 'Malawi', 'Unknown', 'Central Africa', 'South Sudan',\n",
       "       'Saint Barthelemy', 'Micronesia', 'South Korea', 'Kyrgyzstan',\n",
       "       'Turks And Caicos', 'Eswatini', 'Tokelau', 'Sint Maarten', 'Macao',\n",
       "       'Seychelles', 'Rwanda', 'Palau', 'Luxembourg', 'Lebanon',\n",
       "       'Bosnia and Herzegovina', 'Libya', 'Guinea',\n",
       "       'Saint Vincent and the Grenadines', 'UN', 'Iran', 'Lithuania',\n",
       "       'Malampa', 'Antigua and Barbuda', 'AY', 'Chad', 'Cayenne',\n",
       "       'New Caledonia', 'Yemen', 'Slovenia', 'Nauru', 'Niue', 'Bulgaria',\n",
       "       'Republic of North Macedonia', 'Virgin Islands', 'Somalia',\n",
       "       'Pacific Ocean', 'Obyan', 'Mauritania', 'Albania', 'Wolseley',\n",
       "       'Wallis and Futuna', 'Saint Pierre and Miquelon', 'Georgia',\n",
       "       \"Côte d'Ivoire\", 'South Korean', 'Serbia', 'MU', 'Guernsey',\n",
       "       'Great Britain', 'Turks and Caicos Islands'], dtype=object)"
      ]
     },
     "execution_count": 11,
     "metadata": {},
     "output_type": "execute_result"
    }
   ],
   "source": [
    "# Number of countries\n",
    "df[\"Country\"].unique()"
   ]
  },
  {
   "cell_type": "markdown",
   "metadata": {},
   "source": [
    "From this output we can see a glimpse of all countries/territories that have been mentioned in the dataset. We can see a mix of known locations but others which might skew the dataset if used as a whole such as 'MU' or 'BLOCK 651A'."
   ]
  },
  {
   "cell_type": "code",
   "execution_count": 12,
   "metadata": {},
   "outputs": [
    {
     "name": "stdout",
     "output_type": "stream",
     "text": [
      "220\n"
     ]
    }
   ],
   "source": [
    "print(len(df[\"Country\"].unique()))"
   ]
  },
  {
   "cell_type": "code",
   "execution_count": 13,
   "metadata": {},
   "outputs": [
    {
     "data": {
      "text/plain": [
       "Country\n",
       "United States     0.927647\n",
       "Brazil            0.004218\n",
       "Canada            0.004049\n",
       "Mexico            0.004038\n",
       "United Kingdom    0.003880\n",
       "Australia         0.003384\n",
       "France            0.002662\n",
       "Spain             0.002549\n",
       "Bahamas           0.002436\n",
       "Germany           0.002425\n",
       "Name: proportion, dtype: float64"
      ]
     },
     "execution_count": 13,
     "metadata": {},
     "output_type": "execute_result"
    }
   ],
   "source": [
    "# Top 10 Most populous countries and their percentages\n",
    "df[\"Country\"].value_counts(normalize=True).head(10)"
   ]
  },
  {
   "cell_type": "markdown",
   "metadata": {},
   "source": [
    "From this we can see that the United States accounts for 92.7% of the dataset. This is a statistically significant sample to use. The next largest country is Brazil and that only accounts for 0.42%.\n",
    "\n",
    "This will also make the analysis more reliable as different countries have different reporting standards and using only one country reduces the complexity and fragmentality of the  data."
   ]
  },
  {
   "cell_type": "code",
   "execution_count": 14,
   "metadata": {},
   "outputs": [
    {
     "data": {
      "text/plain": [
       "1"
      ]
     },
     "execution_count": 14,
     "metadata": {},
     "output_type": "execute_result"
    }
   ],
   "source": [
    "# Dropping all countries except United States\n",
    "df = df[df[\"Country\"] == \"United States\"]\n",
    "df[\"Country\"].nunique()"
   ]
  },
  {
   "cell_type": "code",
   "execution_count": 15,
   "metadata": {},
   "outputs": [
    {
     "data": {
      "application/vnd.microsoft.datawrangler.viewer.v0+json": {
       "columns": [
        {
         "name": "index",
         "rawType": "int64",
         "type": "integer"
        },
        {
         "name": "Event.Id",
         "rawType": "object",
         "type": "string"
        },
        {
         "name": "Investigation.Type",
         "rawType": "object",
         "type": "string"
        },
        {
         "name": "Accident.Number",
         "rawType": "object",
         "type": "string"
        },
        {
         "name": "Event.Date",
         "rawType": "object",
         "type": "string"
        },
        {
         "name": "Location",
         "rawType": "object",
         "type": "string"
        },
        {
         "name": "Country",
         "rawType": "object",
         "type": "string"
        },
        {
         "name": "Latitude",
         "rawType": "object",
         "type": "unknown"
        },
        {
         "name": "Longitude",
         "rawType": "object",
         "type": "unknown"
        },
        {
         "name": "Airport.Code",
         "rawType": "object",
         "type": "unknown"
        },
        {
         "name": "Airport.Name",
         "rawType": "object",
         "type": "unknown"
        },
        {
         "name": "Injury.Severity",
         "rawType": "object",
         "type": "string"
        },
        {
         "name": "Aircraft.damage",
         "rawType": "object",
         "type": "string"
        },
        {
         "name": "Aircraft.Category",
         "rawType": "object",
         "type": "unknown"
        },
        {
         "name": "Registration.Number",
         "rawType": "object",
         "type": "string"
        },
        {
         "name": "Make",
         "rawType": "object",
         "type": "string"
        },
        {
         "name": "Model",
         "rawType": "object",
         "type": "string"
        },
        {
         "name": "Amateur.Built",
         "rawType": "object",
         "type": "string"
        },
        {
         "name": "Number.of.Engines",
         "rawType": "float64",
         "type": "float"
        },
        {
         "name": "Engine.Type",
         "rawType": "object",
         "type": "unknown"
        },
        {
         "name": "FAR.Description",
         "rawType": "object",
         "type": "unknown"
        },
        {
         "name": "Schedule",
         "rawType": "object",
         "type": "unknown"
        },
        {
         "name": "Purpose.of.flight",
         "rawType": "object",
         "type": "string"
        },
        {
         "name": "Air.carrier",
         "rawType": "object",
         "type": "unknown"
        },
        {
         "name": "Total.Fatal.Injuries",
         "rawType": "float64",
         "type": "float"
        },
        {
         "name": "Total.Serious.Injuries",
         "rawType": "float64",
         "type": "float"
        },
        {
         "name": "Total.Minor.Injuries",
         "rawType": "float64",
         "type": "float"
        },
        {
         "name": "Total.Uninjured",
         "rawType": "float64",
         "type": "float"
        },
        {
         "name": "Weather.Condition",
         "rawType": "object",
         "type": "string"
        },
        {
         "name": "Broad.phase.of.flight",
         "rawType": "object",
         "type": "string"
        },
        {
         "name": "Report.Status",
         "rawType": "object",
         "type": "string"
        },
        {
         "name": "Publication.Date",
         "rawType": "object",
         "type": "unknown"
        }
       ],
       "conversionMethod": "pd.DataFrame",
       "ref": "8f7da5f3-d8ac-4bd8-8186-620658a2ab91",
       "rows": [
        [
         "0",
         "20001218X45444",
         "Accident",
         "SEA87LA080",
         "1948-10-24",
         "MOOSE CREEK, ID",
         "United States",
         null,
         null,
         null,
         null,
         "Fatal(2)",
         "Destroyed",
         null,
         "NC6404",
         "Stinson",
         "108-3",
         "No",
         "1.0",
         "Reciprocating",
         null,
         null,
         "Personal",
         null,
         "2.0",
         "0.0",
         "0.0",
         "0.0",
         "UNK",
         "Cruise",
         "Probable Cause",
         null
        ],
        [
         "1",
         "20001218X45447",
         "Accident",
         "LAX94LA336",
         "1962-07-19",
         "BRIDGEPORT, CA",
         "United States",
         null,
         null,
         null,
         null,
         "Fatal(4)",
         "Destroyed",
         null,
         "N5069P",
         "Piper",
         "PA24-180",
         "No",
         "1.0",
         "Reciprocating",
         null,
         null,
         "Personal",
         null,
         "4.0",
         "0.0",
         "0.0",
         "0.0",
         "UNK",
         "Unknown",
         "Probable Cause",
         "19-09-1996"
        ],
        [
         "2",
         "20061025X01555",
         "Accident",
         "NYC07LA005",
         "1974-08-30",
         "Saltville, VA",
         "United States",
         "36.922223",
         "-81.878056",
         null,
         null,
         "Fatal(3)",
         "Destroyed",
         null,
         "N5142R",
         "Cessna",
         "172M",
         "No",
         "1.0",
         "Reciprocating",
         null,
         null,
         "Personal",
         null,
         "3.0",
         null,
         null,
         null,
         "IMC",
         "Cruise",
         "Probable Cause",
         "26-02-2007"
        ],
        [
         "3",
         "20001218X45448",
         "Accident",
         "LAX96LA321",
         "1977-06-19",
         "EUREKA, CA",
         "United States",
         null,
         null,
         null,
         null,
         "Fatal(2)",
         "Destroyed",
         null,
         "N1168J",
         "Rockwell",
         "112",
         "No",
         "1.0",
         "Reciprocating",
         null,
         null,
         "Personal",
         null,
         "2.0",
         "0.0",
         "0.0",
         "0.0",
         "IMC",
         "Cruise",
         "Probable Cause",
         "12-09-2000"
        ],
        [
         "4",
         "20041105X01764",
         "Accident",
         "CHI79FA064",
         "1979-08-02",
         "Canton, OH",
         "United States",
         null,
         null,
         null,
         null,
         "Fatal(1)",
         "Destroyed",
         null,
         "N15NY",
         "Cessna",
         "501",
         "No",
         null,
         null,
         null,
         null,
         "Personal",
         null,
         "1.0",
         "2.0",
         null,
         "0.0",
         "VMC",
         "Approach",
         "Probable Cause",
         "16-04-1980"
        ]
       ],
       "shape": {
        "columns": 31,
        "rows": 5
       }
      },
      "text/html": [
       "<div>\n",
       "<style scoped>\n",
       "    .dataframe tbody tr th:only-of-type {\n",
       "        vertical-align: middle;\n",
       "    }\n",
       "\n",
       "    .dataframe tbody tr th {\n",
       "        vertical-align: top;\n",
       "    }\n",
       "\n",
       "    .dataframe thead th {\n",
       "        text-align: right;\n",
       "    }\n",
       "</style>\n",
       "<table border=\"1\" class=\"dataframe\">\n",
       "  <thead>\n",
       "    <tr style=\"text-align: right;\">\n",
       "      <th></th>\n",
       "      <th>Event.Id</th>\n",
       "      <th>Investigation.Type</th>\n",
       "      <th>Accident.Number</th>\n",
       "      <th>Event.Date</th>\n",
       "      <th>Location</th>\n",
       "      <th>Country</th>\n",
       "      <th>Latitude</th>\n",
       "      <th>Longitude</th>\n",
       "      <th>Airport.Code</th>\n",
       "      <th>Airport.Name</th>\n",
       "      <th>...</th>\n",
       "      <th>Purpose.of.flight</th>\n",
       "      <th>Air.carrier</th>\n",
       "      <th>Total.Fatal.Injuries</th>\n",
       "      <th>Total.Serious.Injuries</th>\n",
       "      <th>Total.Minor.Injuries</th>\n",
       "      <th>Total.Uninjured</th>\n",
       "      <th>Weather.Condition</th>\n",
       "      <th>Broad.phase.of.flight</th>\n",
       "      <th>Report.Status</th>\n",
       "      <th>Publication.Date</th>\n",
       "    </tr>\n",
       "  </thead>\n",
       "  <tbody>\n",
       "    <tr>\n",
       "      <th>0</th>\n",
       "      <td>20001218X45444</td>\n",
       "      <td>Accident</td>\n",
       "      <td>SEA87LA080</td>\n",
       "      <td>1948-10-24</td>\n",
       "      <td>MOOSE CREEK, ID</td>\n",
       "      <td>United States</td>\n",
       "      <td>NaN</td>\n",
       "      <td>NaN</td>\n",
       "      <td>NaN</td>\n",
       "      <td>NaN</td>\n",
       "      <td>...</td>\n",
       "      <td>Personal</td>\n",
       "      <td>NaN</td>\n",
       "      <td>2.0</td>\n",
       "      <td>0.0</td>\n",
       "      <td>0.0</td>\n",
       "      <td>0.0</td>\n",
       "      <td>UNK</td>\n",
       "      <td>Cruise</td>\n",
       "      <td>Probable Cause</td>\n",
       "      <td>NaN</td>\n",
       "    </tr>\n",
       "    <tr>\n",
       "      <th>1</th>\n",
       "      <td>20001218X45447</td>\n",
       "      <td>Accident</td>\n",
       "      <td>LAX94LA336</td>\n",
       "      <td>1962-07-19</td>\n",
       "      <td>BRIDGEPORT, CA</td>\n",
       "      <td>United States</td>\n",
       "      <td>NaN</td>\n",
       "      <td>NaN</td>\n",
       "      <td>NaN</td>\n",
       "      <td>NaN</td>\n",
       "      <td>...</td>\n",
       "      <td>Personal</td>\n",
       "      <td>NaN</td>\n",
       "      <td>4.0</td>\n",
       "      <td>0.0</td>\n",
       "      <td>0.0</td>\n",
       "      <td>0.0</td>\n",
       "      <td>UNK</td>\n",
       "      <td>Unknown</td>\n",
       "      <td>Probable Cause</td>\n",
       "      <td>19-09-1996</td>\n",
       "    </tr>\n",
       "    <tr>\n",
       "      <th>2</th>\n",
       "      <td>20061025X01555</td>\n",
       "      <td>Accident</td>\n",
       "      <td>NYC07LA005</td>\n",
       "      <td>1974-08-30</td>\n",
       "      <td>Saltville, VA</td>\n",
       "      <td>United States</td>\n",
       "      <td>36.922223</td>\n",
       "      <td>-81.878056</td>\n",
       "      <td>NaN</td>\n",
       "      <td>NaN</td>\n",
       "      <td>...</td>\n",
       "      <td>Personal</td>\n",
       "      <td>NaN</td>\n",
       "      <td>3.0</td>\n",
       "      <td>NaN</td>\n",
       "      <td>NaN</td>\n",
       "      <td>NaN</td>\n",
       "      <td>IMC</td>\n",
       "      <td>Cruise</td>\n",
       "      <td>Probable Cause</td>\n",
       "      <td>26-02-2007</td>\n",
       "    </tr>\n",
       "    <tr>\n",
       "      <th>3</th>\n",
       "      <td>20001218X45448</td>\n",
       "      <td>Accident</td>\n",
       "      <td>LAX96LA321</td>\n",
       "      <td>1977-06-19</td>\n",
       "      <td>EUREKA, CA</td>\n",
       "      <td>United States</td>\n",
       "      <td>NaN</td>\n",
       "      <td>NaN</td>\n",
       "      <td>NaN</td>\n",
       "      <td>NaN</td>\n",
       "      <td>...</td>\n",
       "      <td>Personal</td>\n",
       "      <td>NaN</td>\n",
       "      <td>2.0</td>\n",
       "      <td>0.0</td>\n",
       "      <td>0.0</td>\n",
       "      <td>0.0</td>\n",
       "      <td>IMC</td>\n",
       "      <td>Cruise</td>\n",
       "      <td>Probable Cause</td>\n",
       "      <td>12-09-2000</td>\n",
       "    </tr>\n",
       "    <tr>\n",
       "      <th>4</th>\n",
       "      <td>20041105X01764</td>\n",
       "      <td>Accident</td>\n",
       "      <td>CHI79FA064</td>\n",
       "      <td>1979-08-02</td>\n",
       "      <td>Canton, OH</td>\n",
       "      <td>United States</td>\n",
       "      <td>NaN</td>\n",
       "      <td>NaN</td>\n",
       "      <td>NaN</td>\n",
       "      <td>NaN</td>\n",
       "      <td>...</td>\n",
       "      <td>Personal</td>\n",
       "      <td>NaN</td>\n",
       "      <td>1.0</td>\n",
       "      <td>2.0</td>\n",
       "      <td>NaN</td>\n",
       "      <td>0.0</td>\n",
       "      <td>VMC</td>\n",
       "      <td>Approach</td>\n",
       "      <td>Probable Cause</td>\n",
       "      <td>16-04-1980</td>\n",
       "    </tr>\n",
       "  </tbody>\n",
       "</table>\n",
       "<p>5 rows × 31 columns</p>\n",
       "</div>"
      ],
      "text/plain": [
       "         Event.Id Investigation.Type Accident.Number  Event.Date  \\\n",
       "0  20001218X45444           Accident      SEA87LA080  1948-10-24   \n",
       "1  20001218X45447           Accident      LAX94LA336  1962-07-19   \n",
       "2  20061025X01555           Accident      NYC07LA005  1974-08-30   \n",
       "3  20001218X45448           Accident      LAX96LA321  1977-06-19   \n",
       "4  20041105X01764           Accident      CHI79FA064  1979-08-02   \n",
       "\n",
       "          Location        Country   Latitude  Longitude Airport.Code  \\\n",
       "0  MOOSE CREEK, ID  United States        NaN        NaN          NaN   \n",
       "1   BRIDGEPORT, CA  United States        NaN        NaN          NaN   \n",
       "2    Saltville, VA  United States  36.922223 -81.878056          NaN   \n",
       "3       EUREKA, CA  United States        NaN        NaN          NaN   \n",
       "4       Canton, OH  United States        NaN        NaN          NaN   \n",
       "\n",
       "  Airport.Name  ... Purpose.of.flight Air.carrier Total.Fatal.Injuries  \\\n",
       "0          NaN  ...          Personal         NaN                  2.0   \n",
       "1          NaN  ...          Personal         NaN                  4.0   \n",
       "2          NaN  ...          Personal         NaN                  3.0   \n",
       "3          NaN  ...          Personal         NaN                  2.0   \n",
       "4          NaN  ...          Personal         NaN                  1.0   \n",
       "\n",
       "  Total.Serious.Injuries Total.Minor.Injuries Total.Uninjured  \\\n",
       "0                    0.0                  0.0             0.0   \n",
       "1                    0.0                  0.0             0.0   \n",
       "2                    NaN                  NaN             NaN   \n",
       "3                    0.0                  0.0             0.0   \n",
       "4                    2.0                  NaN             0.0   \n",
       "\n",
       "  Weather.Condition  Broad.phase.of.flight   Report.Status Publication.Date  \n",
       "0               UNK                 Cruise  Probable Cause              NaN  \n",
       "1               UNK                Unknown  Probable Cause       19-09-1996  \n",
       "2               IMC                 Cruise  Probable Cause       26-02-2007  \n",
       "3               IMC                 Cruise  Probable Cause       12-09-2000  \n",
       "4               VMC               Approach  Probable Cause       16-04-1980  \n",
       "\n",
       "[5 rows x 31 columns]"
      ]
     },
     "execution_count": 15,
     "metadata": {},
     "output_type": "execute_result"
    }
   ],
   "source": [
    "df.head()"
   ]
  },
  {
   "cell_type": "code",
   "execution_count": 16,
   "metadata": {},
   "outputs": [
    {
     "data": {
      "text/plain": [
       "Event.Id                      0\n",
       "Investigation.Type            0\n",
       "Accident.Number               0\n",
       "Event.Date                    0\n",
       "Location                     11\n",
       "Country                       0\n",
       "Latitude                  49983\n",
       "Longitude                 49993\n",
       "Airport.Code              33176\n",
       "Airport.Name              30678\n",
       "Injury.Severity             108\n",
       "Aircraft.damage            1979\n",
       "Aircraft.Category         54094\n",
       "Registration.Number         116\n",
       "Make                         21\n",
       "Model                        38\n",
       "Amateur.Built                21\n",
       "Number.of.Engines          1875\n",
       "Engine.Type                3042\n",
       "FAR.Description           54023\n",
       "Schedule                  71951\n",
       "Purpose.of.flight          2429\n",
       "Air.carrier               67753\n",
       "Total.Fatal.Injuries      10654\n",
       "Total.Serious.Injuries    11375\n",
       "Total.Minor.Injuries      10729\n",
       "Total.Uninjured            5005\n",
       "Weather.Condition           645\n",
       "Broad.phase.of.flight     21090\n",
       "Report.Status              2611\n",
       "Publication.Date          14138\n",
       "dtype: int64"
      ]
     },
     "execution_count": 16,
     "metadata": {},
     "output_type": "execute_result"
    }
   ],
   "source": [
    "# Checking for missing values in the United States dataset\n",
    "df.isna().sum()"
   ]
  },
  {
   "cell_type": "markdown",
   "metadata": {},
   "source": [
    "**Removing irrelevant data**"
   ]
  },
  {
   "cell_type": "code",
   "execution_count": 17,
   "metadata": {},
   "outputs": [
    {
     "data": {
      "application/vnd.microsoft.datawrangler.viewer.v0+json": {
       "columns": [
        {
         "name": "index",
         "rawType": "int64",
         "type": "integer"
        },
        {
         "name": "Airport.Name",
         "rawType": "object",
         "type": "unknown"
        },
        {
         "name": "Airport.Code",
         "rawType": "object",
         "type": "unknown"
        },
        {
         "name": "FAR.Description",
         "rawType": "object",
         "type": "unknown"
        },
        {
         "name": "Schedule",
         "rawType": "object",
         "type": "unknown"
        },
        {
         "name": "Air.carrier",
         "rawType": "object",
         "type": "unknown"
        },
        {
         "name": "Report.Status",
         "rawType": "object",
         "type": "string"
        },
        {
         "name": "Publication.Date",
         "rawType": "object",
         "type": "unknown"
        }
       ],
       "conversionMethod": "pd.DataFrame",
       "ref": "6ae36e31-e0aa-4d61-8bdb-efee3f394c7c",
       "rows": [
        [
         "0",
         null,
         null,
         null,
         null,
         null,
         "Probable Cause",
         null
        ],
        [
         "1",
         null,
         null,
         null,
         null,
         null,
         "Probable Cause",
         "19-09-1996"
        ],
        [
         "2",
         null,
         null,
         null,
         null,
         null,
         "Probable Cause",
         "26-02-2007"
        ],
        [
         "3",
         null,
         null,
         null,
         null,
         null,
         "Probable Cause",
         "12-09-2000"
        ],
        [
         "4",
         null,
         null,
         null,
         null,
         null,
         "Probable Cause",
         "16-04-1980"
        ],
        [
         "5",
         null,
         null,
         "Part 129: Foreign",
         "SCHD",
         "Air Canada",
         "Probable Cause",
         "19-09-2017"
        ],
        [
         "6",
         null,
         null,
         null,
         null,
         null,
         "Probable Cause",
         "06-11-2001"
        ],
        [
         "7",
         "BLACKBURN AG STRIP",
         null,
         "Part 91: General Aviation",
         null,
         null,
         "Probable Cause",
         "01-01-1982"
        ],
        [
         "8",
         "HANOVER",
         "N58",
         "Part 91: General Aviation",
         null,
         null,
         "Probable Cause",
         "01-01-1982"
        ],
        [
         "9",
         "JACKSONVILLE INTL",
         "JAX",
         null,
         null,
         null,
         "Probable Cause",
         "01-01-1982"
        ]
       ],
       "shape": {
        "columns": 7,
        "rows": 10
       }
      },
      "text/html": [
       "<div>\n",
       "<style scoped>\n",
       "    .dataframe tbody tr th:only-of-type {\n",
       "        vertical-align: middle;\n",
       "    }\n",
       "\n",
       "    .dataframe tbody tr th {\n",
       "        vertical-align: top;\n",
       "    }\n",
       "\n",
       "    .dataframe thead th {\n",
       "        text-align: right;\n",
       "    }\n",
       "</style>\n",
       "<table border=\"1\" class=\"dataframe\">\n",
       "  <thead>\n",
       "    <tr style=\"text-align: right;\">\n",
       "      <th></th>\n",
       "      <th>Airport.Name</th>\n",
       "      <th>Airport.Code</th>\n",
       "      <th>FAR.Description</th>\n",
       "      <th>Schedule</th>\n",
       "      <th>Air.carrier</th>\n",
       "      <th>Report.Status</th>\n",
       "      <th>Publication.Date</th>\n",
       "    </tr>\n",
       "  </thead>\n",
       "  <tbody>\n",
       "    <tr>\n",
       "      <th>0</th>\n",
       "      <td>NaN</td>\n",
       "      <td>NaN</td>\n",
       "      <td>NaN</td>\n",
       "      <td>NaN</td>\n",
       "      <td>NaN</td>\n",
       "      <td>Probable Cause</td>\n",
       "      <td>NaN</td>\n",
       "    </tr>\n",
       "    <tr>\n",
       "      <th>1</th>\n",
       "      <td>NaN</td>\n",
       "      <td>NaN</td>\n",
       "      <td>NaN</td>\n",
       "      <td>NaN</td>\n",
       "      <td>NaN</td>\n",
       "      <td>Probable Cause</td>\n",
       "      <td>19-09-1996</td>\n",
       "    </tr>\n",
       "    <tr>\n",
       "      <th>2</th>\n",
       "      <td>NaN</td>\n",
       "      <td>NaN</td>\n",
       "      <td>NaN</td>\n",
       "      <td>NaN</td>\n",
       "      <td>NaN</td>\n",
       "      <td>Probable Cause</td>\n",
       "      <td>26-02-2007</td>\n",
       "    </tr>\n",
       "    <tr>\n",
       "      <th>3</th>\n",
       "      <td>NaN</td>\n",
       "      <td>NaN</td>\n",
       "      <td>NaN</td>\n",
       "      <td>NaN</td>\n",
       "      <td>NaN</td>\n",
       "      <td>Probable Cause</td>\n",
       "      <td>12-09-2000</td>\n",
       "    </tr>\n",
       "    <tr>\n",
       "      <th>4</th>\n",
       "      <td>NaN</td>\n",
       "      <td>NaN</td>\n",
       "      <td>NaN</td>\n",
       "      <td>NaN</td>\n",
       "      <td>NaN</td>\n",
       "      <td>Probable Cause</td>\n",
       "      <td>16-04-1980</td>\n",
       "    </tr>\n",
       "    <tr>\n",
       "      <th>5</th>\n",
       "      <td>NaN</td>\n",
       "      <td>NaN</td>\n",
       "      <td>Part 129: Foreign</td>\n",
       "      <td>SCHD</td>\n",
       "      <td>Air Canada</td>\n",
       "      <td>Probable Cause</td>\n",
       "      <td>19-09-2017</td>\n",
       "    </tr>\n",
       "    <tr>\n",
       "      <th>6</th>\n",
       "      <td>NaN</td>\n",
       "      <td>NaN</td>\n",
       "      <td>NaN</td>\n",
       "      <td>NaN</td>\n",
       "      <td>NaN</td>\n",
       "      <td>Probable Cause</td>\n",
       "      <td>06-11-2001</td>\n",
       "    </tr>\n",
       "    <tr>\n",
       "      <th>7</th>\n",
       "      <td>BLACKBURN AG STRIP</td>\n",
       "      <td>NaN</td>\n",
       "      <td>Part 91: General Aviation</td>\n",
       "      <td>NaN</td>\n",
       "      <td>NaN</td>\n",
       "      <td>Probable Cause</td>\n",
       "      <td>01-01-1982</td>\n",
       "    </tr>\n",
       "    <tr>\n",
       "      <th>8</th>\n",
       "      <td>HANOVER</td>\n",
       "      <td>N58</td>\n",
       "      <td>Part 91: General Aviation</td>\n",
       "      <td>NaN</td>\n",
       "      <td>NaN</td>\n",
       "      <td>Probable Cause</td>\n",
       "      <td>01-01-1982</td>\n",
       "    </tr>\n",
       "    <tr>\n",
       "      <th>9</th>\n",
       "      <td>JACKSONVILLE INTL</td>\n",
       "      <td>JAX</td>\n",
       "      <td>NaN</td>\n",
       "      <td>NaN</td>\n",
       "      <td>NaN</td>\n",
       "      <td>Probable Cause</td>\n",
       "      <td>01-01-1982</td>\n",
       "    </tr>\n",
       "  </tbody>\n",
       "</table>\n",
       "</div>"
      ],
      "text/plain": [
       "         Airport.Name Airport.Code            FAR.Description Schedule  \\\n",
       "0                 NaN          NaN                        NaN      NaN   \n",
       "1                 NaN          NaN                        NaN      NaN   \n",
       "2                 NaN          NaN                        NaN      NaN   \n",
       "3                 NaN          NaN                        NaN      NaN   \n",
       "4                 NaN          NaN                        NaN      NaN   \n",
       "5                 NaN          NaN          Part 129: Foreign     SCHD   \n",
       "6                 NaN          NaN                        NaN      NaN   \n",
       "7  BLACKBURN AG STRIP          NaN  Part 91: General Aviation      NaN   \n",
       "8             HANOVER          N58  Part 91: General Aviation      NaN   \n",
       "9   JACKSONVILLE INTL          JAX                        NaN      NaN   \n",
       "\n",
       "  Air.carrier   Report.Status Publication.Date  \n",
       "0         NaN  Probable Cause              NaN  \n",
       "1         NaN  Probable Cause       19-09-1996  \n",
       "2         NaN  Probable Cause       26-02-2007  \n",
       "3         NaN  Probable Cause       12-09-2000  \n",
       "4         NaN  Probable Cause       16-04-1980  \n",
       "5  Air Canada  Probable Cause       19-09-2017  \n",
       "6         NaN  Probable Cause       06-11-2001  \n",
       "7         NaN  Probable Cause       01-01-1982  \n",
       "8         NaN  Probable Cause       01-01-1982  \n",
       "9         NaN  Probable Cause       01-01-1982  "
      ]
     },
     "execution_count": 17,
     "metadata": {},
     "output_type": "execute_result"
    }
   ],
   "source": [
    "# Overview of some columns before dropping\n",
    "df[[\"Airport.Name\",\"Airport.Code\",\"FAR.Description\",\"Schedule\", \"Air.carrier\", \n",
    "    \"Report.Status\",\"Publication.Date\"]].head(10)"
   ]
  },
  {
   "cell_type": "code",
   "execution_count": 18,
   "metadata": {},
   "outputs": [
    {
     "data": {
      "application/vnd.microsoft.datawrangler.viewer.v0+json": {
       "columns": [
        {
         "name": "index",
         "rawType": "int64",
         "type": "integer"
        },
        {
         "name": "Investigation.Type",
         "rawType": "object",
         "type": "string"
        },
        {
         "name": "Event.Date",
         "rawType": "object",
         "type": "string"
        },
        {
         "name": "Location",
         "rawType": "object",
         "type": "string"
        },
        {
         "name": "Injury.Severity",
         "rawType": "object",
         "type": "string"
        },
        {
         "name": "Aircraft.damage",
         "rawType": "object",
         "type": "string"
        },
        {
         "name": "Aircraft.Category",
         "rawType": "object",
         "type": "unknown"
        },
        {
         "name": "Make",
         "rawType": "object",
         "type": "string"
        },
        {
         "name": "Model",
         "rawType": "object",
         "type": "string"
        },
        {
         "name": "Amateur.Built",
         "rawType": "object",
         "type": "string"
        },
        {
         "name": "Number.of.Engines",
         "rawType": "float64",
         "type": "float"
        },
        {
         "name": "Engine.Type",
         "rawType": "object",
         "type": "unknown"
        },
        {
         "name": "Total.Fatal.Injuries",
         "rawType": "float64",
         "type": "float"
        },
        {
         "name": "Total.Serious.Injuries",
         "rawType": "float64",
         "type": "float"
        },
        {
         "name": "Total.Minor.Injuries",
         "rawType": "float64",
         "type": "float"
        },
        {
         "name": "Total.Uninjured",
         "rawType": "float64",
         "type": "float"
        },
        {
         "name": "Weather.Condition",
         "rawType": "object",
         "type": "string"
        }
       ],
       "conversionMethod": "pd.DataFrame",
       "ref": "d5cb52ee-e592-48d6-b6b7-eceb922ce4d0",
       "rows": [
        [
         "0",
         "Accident",
         "1948-10-24",
         "MOOSE CREEK, ID",
         "Fatal(2)",
         "Destroyed",
         null,
         "Stinson",
         "108-3",
         "No",
         "1.0",
         "Reciprocating",
         "2.0",
         "0.0",
         "0.0",
         "0.0",
         "UNK"
        ],
        [
         "1",
         "Accident",
         "1962-07-19",
         "BRIDGEPORT, CA",
         "Fatal(4)",
         "Destroyed",
         null,
         "Piper",
         "PA24-180",
         "No",
         "1.0",
         "Reciprocating",
         "4.0",
         "0.0",
         "0.0",
         "0.0",
         "UNK"
        ],
        [
         "2",
         "Accident",
         "1974-08-30",
         "Saltville, VA",
         "Fatal(3)",
         "Destroyed",
         null,
         "Cessna",
         "172M",
         "No",
         "1.0",
         "Reciprocating",
         "3.0",
         null,
         null,
         null,
         "IMC"
        ],
        [
         "3",
         "Accident",
         "1977-06-19",
         "EUREKA, CA",
         "Fatal(2)",
         "Destroyed",
         null,
         "Rockwell",
         "112",
         "No",
         "1.0",
         "Reciprocating",
         "2.0",
         "0.0",
         "0.0",
         "0.0",
         "IMC"
        ],
        [
         "4",
         "Accident",
         "1979-08-02",
         "Canton, OH",
         "Fatal(1)",
         "Destroyed",
         null,
         "Cessna",
         "501",
         "No",
         null,
         null,
         "1.0",
         "2.0",
         null,
         "0.0",
         "VMC"
        ]
       ],
       "shape": {
        "columns": 16,
        "rows": 5
       }
      },
      "text/html": [
       "<div>\n",
       "<style scoped>\n",
       "    .dataframe tbody tr th:only-of-type {\n",
       "        vertical-align: middle;\n",
       "    }\n",
       "\n",
       "    .dataframe tbody tr th {\n",
       "        vertical-align: top;\n",
       "    }\n",
       "\n",
       "    .dataframe thead th {\n",
       "        text-align: right;\n",
       "    }\n",
       "</style>\n",
       "<table border=\"1\" class=\"dataframe\">\n",
       "  <thead>\n",
       "    <tr style=\"text-align: right;\">\n",
       "      <th></th>\n",
       "      <th>Investigation.Type</th>\n",
       "      <th>Event.Date</th>\n",
       "      <th>Location</th>\n",
       "      <th>Injury.Severity</th>\n",
       "      <th>Aircraft.damage</th>\n",
       "      <th>Aircraft.Category</th>\n",
       "      <th>Make</th>\n",
       "      <th>Model</th>\n",
       "      <th>Amateur.Built</th>\n",
       "      <th>Number.of.Engines</th>\n",
       "      <th>Engine.Type</th>\n",
       "      <th>Total.Fatal.Injuries</th>\n",
       "      <th>Total.Serious.Injuries</th>\n",
       "      <th>Total.Minor.Injuries</th>\n",
       "      <th>Total.Uninjured</th>\n",
       "      <th>Weather.Condition</th>\n",
       "    </tr>\n",
       "  </thead>\n",
       "  <tbody>\n",
       "    <tr>\n",
       "      <th>0</th>\n",
       "      <td>Accident</td>\n",
       "      <td>1948-10-24</td>\n",
       "      <td>MOOSE CREEK, ID</td>\n",
       "      <td>Fatal(2)</td>\n",
       "      <td>Destroyed</td>\n",
       "      <td>NaN</td>\n",
       "      <td>Stinson</td>\n",
       "      <td>108-3</td>\n",
       "      <td>No</td>\n",
       "      <td>1.0</td>\n",
       "      <td>Reciprocating</td>\n",
       "      <td>2.0</td>\n",
       "      <td>0.0</td>\n",
       "      <td>0.0</td>\n",
       "      <td>0.0</td>\n",
       "      <td>UNK</td>\n",
       "    </tr>\n",
       "    <tr>\n",
       "      <th>1</th>\n",
       "      <td>Accident</td>\n",
       "      <td>1962-07-19</td>\n",
       "      <td>BRIDGEPORT, CA</td>\n",
       "      <td>Fatal(4)</td>\n",
       "      <td>Destroyed</td>\n",
       "      <td>NaN</td>\n",
       "      <td>Piper</td>\n",
       "      <td>PA24-180</td>\n",
       "      <td>No</td>\n",
       "      <td>1.0</td>\n",
       "      <td>Reciprocating</td>\n",
       "      <td>4.0</td>\n",
       "      <td>0.0</td>\n",
       "      <td>0.0</td>\n",
       "      <td>0.0</td>\n",
       "      <td>UNK</td>\n",
       "    </tr>\n",
       "    <tr>\n",
       "      <th>2</th>\n",
       "      <td>Accident</td>\n",
       "      <td>1974-08-30</td>\n",
       "      <td>Saltville, VA</td>\n",
       "      <td>Fatal(3)</td>\n",
       "      <td>Destroyed</td>\n",
       "      <td>NaN</td>\n",
       "      <td>Cessna</td>\n",
       "      <td>172M</td>\n",
       "      <td>No</td>\n",
       "      <td>1.0</td>\n",
       "      <td>Reciprocating</td>\n",
       "      <td>3.0</td>\n",
       "      <td>NaN</td>\n",
       "      <td>NaN</td>\n",
       "      <td>NaN</td>\n",
       "      <td>IMC</td>\n",
       "    </tr>\n",
       "    <tr>\n",
       "      <th>3</th>\n",
       "      <td>Accident</td>\n",
       "      <td>1977-06-19</td>\n",
       "      <td>EUREKA, CA</td>\n",
       "      <td>Fatal(2)</td>\n",
       "      <td>Destroyed</td>\n",
       "      <td>NaN</td>\n",
       "      <td>Rockwell</td>\n",
       "      <td>112</td>\n",
       "      <td>No</td>\n",
       "      <td>1.0</td>\n",
       "      <td>Reciprocating</td>\n",
       "      <td>2.0</td>\n",
       "      <td>0.0</td>\n",
       "      <td>0.0</td>\n",
       "      <td>0.0</td>\n",
       "      <td>IMC</td>\n",
       "    </tr>\n",
       "    <tr>\n",
       "      <th>4</th>\n",
       "      <td>Accident</td>\n",
       "      <td>1979-08-02</td>\n",
       "      <td>Canton, OH</td>\n",
       "      <td>Fatal(1)</td>\n",
       "      <td>Destroyed</td>\n",
       "      <td>NaN</td>\n",
       "      <td>Cessna</td>\n",
       "      <td>501</td>\n",
       "      <td>No</td>\n",
       "      <td>NaN</td>\n",
       "      <td>NaN</td>\n",
       "      <td>1.0</td>\n",
       "      <td>2.0</td>\n",
       "      <td>NaN</td>\n",
       "      <td>0.0</td>\n",
       "      <td>VMC</td>\n",
       "    </tr>\n",
       "  </tbody>\n",
       "</table>\n",
       "</div>"
      ],
      "text/plain": [
       "  Investigation.Type  Event.Date         Location Injury.Severity  \\\n",
       "0           Accident  1948-10-24  MOOSE CREEK, ID        Fatal(2)   \n",
       "1           Accident  1962-07-19   BRIDGEPORT, CA        Fatal(4)   \n",
       "2           Accident  1974-08-30    Saltville, VA        Fatal(3)   \n",
       "3           Accident  1977-06-19       EUREKA, CA        Fatal(2)   \n",
       "4           Accident  1979-08-02       Canton, OH        Fatal(1)   \n",
       "\n",
       "  Aircraft.damage Aircraft.Category      Make     Model Amateur.Built  \\\n",
       "0       Destroyed               NaN   Stinson     108-3            No   \n",
       "1       Destroyed               NaN     Piper  PA24-180            No   \n",
       "2       Destroyed               NaN    Cessna      172M            No   \n",
       "3       Destroyed               NaN  Rockwell       112            No   \n",
       "4       Destroyed               NaN    Cessna       501            No   \n",
       "\n",
       "   Number.of.Engines    Engine.Type  Total.Fatal.Injuries  \\\n",
       "0                1.0  Reciprocating                   2.0   \n",
       "1                1.0  Reciprocating                   4.0   \n",
       "2                1.0  Reciprocating                   3.0   \n",
       "3                1.0  Reciprocating                   2.0   \n",
       "4                NaN            NaN                   1.0   \n",
       "\n",
       "   Total.Serious.Injuries  Total.Minor.Injuries  Total.Uninjured  \\\n",
       "0                     0.0                   0.0              0.0   \n",
       "1                     0.0                   0.0              0.0   \n",
       "2                     NaN                   NaN              NaN   \n",
       "3                     0.0                   0.0              0.0   \n",
       "4                     2.0                   NaN              0.0   \n",
       "\n",
       "  Weather.Condition  \n",
       "0               UNK  \n",
       "1               UNK  \n",
       "2               IMC  \n",
       "3               IMC  \n",
       "4               VMC  "
      ]
     },
     "execution_count": 18,
     "metadata": {},
     "output_type": "execute_result"
    }
   ],
   "source": [
    "# Copy of df before dropping columns\n",
    "us_df = df.copy()\n",
    "\n",
    "# Dropping latitude and longitue\n",
    "us_df.drop(columns=[\"Latitude\", \"Longitude\", \"Airport.Name\", \"Airport.Code\",\n",
    "                    \"FAR.Description\",\"Schedule\", \"Event.Id\", \"Country\", \"Air.carrier\", \n",
    "                    \"Publication.Date\",\"Accident.Number\", \"Report.Status\", \"Registration.Number\",\n",
    "                    \"Purpose.of.flight\", \"Broad.phase.of.flight\"], inplace=True)\n",
    "\n",
    "# Quick overview\n",
    "us_df.head()"
   ]
  },
  {
   "cell_type": "markdown",
   "metadata": {},
   "source": [
    "I chose to drop these columns initially as they wouldn't add any benefit in our analysis.\n",
    "The rationale for this is because the 'Event.Id' would be the unique identifier and wouldn't be needed. The other columns though insightful would not add any meaningful insights to the analysis.\n",
    "\n",
    "**Removing duplicate data**"
   ]
  },
  {
   "cell_type": "code",
   "execution_count": 19,
   "metadata": {},
   "outputs": [
    {
     "name": "stdout",
     "output_type": "stream",
     "text": [
      "                        Duplicates  Percentage  Unique Values\n",
      "Investigation.Type           82248      100.00              2\n",
      "Aircraft.damage              82248      100.00              4\n",
      "Weather.Condition            82248      100.00              4\n",
      "Amateur.Built                82248      100.00              2\n",
      "Number.of.Engines            82247      100.00              7\n",
      "Engine.Type                  82246      100.00             11\n",
      "Aircraft.Category            82246      100.00             14\n",
      "Total.Minor.Injuries         82235       99.98             45\n",
      "Total.Serious.Injuries       82229       99.98             33\n",
      "Total.Fatal.Injuries         82221       99.97             51\n",
      "Injury.Severity              82219       99.96             56\n",
      "Total.Uninjured              82172       99.91            349\n",
      "Event.Date                   81215       98.74          14609\n",
      "Make                         75782       92.14           8001\n",
      "Model                        75212       91.45          11443\n",
      "Location                     69519       84.52          23030\n"
     ]
    }
   ],
   "source": [
    "# Check for duplicates\n",
    "\n",
    "def check_duplicates(df):\n",
    "    \n",
    "    duplicate_counts = {}\n",
    "\n",
    "    for col in us_df.columns:\n",
    "        duplicate_vals = us_df[col].duplicated(keep=False)\n",
    "        duplicate_count = duplicate_vals.sum()\n",
    "        duplicate_percentage = (duplicate_count / len(us_df)) * 100\n",
    "        unique_vals = us_df[col].nunique()\n",
    "\n",
    "        duplicate_counts[col] = {\n",
    "            'Duplicates': duplicate_count,\n",
    "            'Percentage': round(duplicate_percentage, 2),\n",
    "            'Unique Values': unique_vals\n",
    "\n",
    "        }\n",
    "\n",
    "    return pd.DataFrame.from_dict(duplicate_counts, orient='index').sort_values(by='Duplicates', \n",
    "                                                                                ascending=False)\n",
    "\n",
    "duplicates_df = check_duplicates(us_df)\n",
    "print(duplicates_df)\n",
    "    # print(f\"Column: {col}, Duplicates: {duplicate_count}, Percentage: {duplicate_percentage:.2f}%\")"
   ]
  },
  {
   "cell_type": "markdown",
   "metadata": {},
   "source": [
    "From the above data, we have most of the data that would be beneficial for our analysis\n",
    "\n",
    "**Addressing Structural Errors**"
   ]
  },
  {
   "cell_type": "code",
   "execution_count": 20,
   "metadata": {},
   "outputs": [
    {
     "data": {
      "application/vnd.microsoft.datawrangler.viewer.v0+json": {
       "columns": [
        {
         "name": "index",
         "rawType": "int64",
         "type": "integer"
        },
        {
         "name": "Investigation_Type",
         "rawType": "object",
         "type": "string"
        },
        {
         "name": "Event_Date",
         "rawType": "object",
         "type": "string"
        },
        {
         "name": "Location",
         "rawType": "object",
         "type": "string"
        },
        {
         "name": "Injury_Severity",
         "rawType": "object",
         "type": "string"
        },
        {
         "name": "Aircraft_damage",
         "rawType": "object",
         "type": "string"
        },
        {
         "name": "Aircraft_Category",
         "rawType": "object",
         "type": "unknown"
        },
        {
         "name": "Make",
         "rawType": "object",
         "type": "string"
        },
        {
         "name": "Model",
         "rawType": "object",
         "type": "string"
        },
        {
         "name": "Amateur_Built",
         "rawType": "object",
         "type": "string"
        },
        {
         "name": "Number_of_Engines",
         "rawType": "float64",
         "type": "float"
        },
        {
         "name": "Engine_Type",
         "rawType": "object",
         "type": "unknown"
        },
        {
         "name": "Total_Fatal_Injuries",
         "rawType": "float64",
         "type": "float"
        },
        {
         "name": "Total_Serious_Injuries",
         "rawType": "float64",
         "type": "float"
        },
        {
         "name": "Total_Minor_Injuries",
         "rawType": "float64",
         "type": "float"
        },
        {
         "name": "Total_Uninjured",
         "rawType": "float64",
         "type": "float"
        },
        {
         "name": "Weather_Condition",
         "rawType": "object",
         "type": "string"
        }
       ],
       "conversionMethod": "pd.DataFrame",
       "ref": "2694ccde-471f-46e5-a32c-aee4558d147f",
       "rows": [
        [
         "0",
         "Accident",
         "1948-10-24",
         "MOOSE CREEK, ID",
         "Fatal(2)",
         "Destroyed",
         null,
         "Stinson",
         "108-3",
         "No",
         "1.0",
         "Reciprocating",
         "2.0",
         "0.0",
         "0.0",
         "0.0",
         "UNK"
        ],
        [
         "1",
         "Accident",
         "1962-07-19",
         "BRIDGEPORT, CA",
         "Fatal(4)",
         "Destroyed",
         null,
         "Piper",
         "PA24-180",
         "No",
         "1.0",
         "Reciprocating",
         "4.0",
         "0.0",
         "0.0",
         "0.0",
         "UNK"
        ],
        [
         "2",
         "Accident",
         "1974-08-30",
         "Saltville, VA",
         "Fatal(3)",
         "Destroyed",
         null,
         "Cessna",
         "172M",
         "No",
         "1.0",
         "Reciprocating",
         "3.0",
         null,
         null,
         null,
         "IMC"
        ],
        [
         "3",
         "Accident",
         "1977-06-19",
         "EUREKA, CA",
         "Fatal(2)",
         "Destroyed",
         null,
         "Rockwell",
         "112",
         "No",
         "1.0",
         "Reciprocating",
         "2.0",
         "0.0",
         "0.0",
         "0.0",
         "IMC"
        ],
        [
         "4",
         "Accident",
         "1979-08-02",
         "Canton, OH",
         "Fatal(1)",
         "Destroyed",
         null,
         "Cessna",
         "501",
         "No",
         null,
         null,
         "1.0",
         "2.0",
         null,
         "0.0",
         "VMC"
        ]
       ],
       "shape": {
        "columns": 16,
        "rows": 5
       }
      },
      "text/html": [
       "<div>\n",
       "<style scoped>\n",
       "    .dataframe tbody tr th:only-of-type {\n",
       "        vertical-align: middle;\n",
       "    }\n",
       "\n",
       "    .dataframe tbody tr th {\n",
       "        vertical-align: top;\n",
       "    }\n",
       "\n",
       "    .dataframe thead th {\n",
       "        text-align: right;\n",
       "    }\n",
       "</style>\n",
       "<table border=\"1\" class=\"dataframe\">\n",
       "  <thead>\n",
       "    <tr style=\"text-align: right;\">\n",
       "      <th></th>\n",
       "      <th>Investigation_Type</th>\n",
       "      <th>Event_Date</th>\n",
       "      <th>Location</th>\n",
       "      <th>Injury_Severity</th>\n",
       "      <th>Aircraft_damage</th>\n",
       "      <th>Aircraft_Category</th>\n",
       "      <th>Make</th>\n",
       "      <th>Model</th>\n",
       "      <th>Amateur_Built</th>\n",
       "      <th>Number_of_Engines</th>\n",
       "      <th>Engine_Type</th>\n",
       "      <th>Total_Fatal_Injuries</th>\n",
       "      <th>Total_Serious_Injuries</th>\n",
       "      <th>Total_Minor_Injuries</th>\n",
       "      <th>Total_Uninjured</th>\n",
       "      <th>Weather_Condition</th>\n",
       "    </tr>\n",
       "  </thead>\n",
       "  <tbody>\n",
       "    <tr>\n",
       "      <th>0</th>\n",
       "      <td>Accident</td>\n",
       "      <td>1948-10-24</td>\n",
       "      <td>MOOSE CREEK, ID</td>\n",
       "      <td>Fatal(2)</td>\n",
       "      <td>Destroyed</td>\n",
       "      <td>NaN</td>\n",
       "      <td>Stinson</td>\n",
       "      <td>108-3</td>\n",
       "      <td>No</td>\n",
       "      <td>1.0</td>\n",
       "      <td>Reciprocating</td>\n",
       "      <td>2.0</td>\n",
       "      <td>0.0</td>\n",
       "      <td>0.0</td>\n",
       "      <td>0.0</td>\n",
       "      <td>UNK</td>\n",
       "    </tr>\n",
       "    <tr>\n",
       "      <th>1</th>\n",
       "      <td>Accident</td>\n",
       "      <td>1962-07-19</td>\n",
       "      <td>BRIDGEPORT, CA</td>\n",
       "      <td>Fatal(4)</td>\n",
       "      <td>Destroyed</td>\n",
       "      <td>NaN</td>\n",
       "      <td>Piper</td>\n",
       "      <td>PA24-180</td>\n",
       "      <td>No</td>\n",
       "      <td>1.0</td>\n",
       "      <td>Reciprocating</td>\n",
       "      <td>4.0</td>\n",
       "      <td>0.0</td>\n",
       "      <td>0.0</td>\n",
       "      <td>0.0</td>\n",
       "      <td>UNK</td>\n",
       "    </tr>\n",
       "    <tr>\n",
       "      <th>2</th>\n",
       "      <td>Accident</td>\n",
       "      <td>1974-08-30</td>\n",
       "      <td>Saltville, VA</td>\n",
       "      <td>Fatal(3)</td>\n",
       "      <td>Destroyed</td>\n",
       "      <td>NaN</td>\n",
       "      <td>Cessna</td>\n",
       "      <td>172M</td>\n",
       "      <td>No</td>\n",
       "      <td>1.0</td>\n",
       "      <td>Reciprocating</td>\n",
       "      <td>3.0</td>\n",
       "      <td>NaN</td>\n",
       "      <td>NaN</td>\n",
       "      <td>NaN</td>\n",
       "      <td>IMC</td>\n",
       "    </tr>\n",
       "    <tr>\n",
       "      <th>3</th>\n",
       "      <td>Accident</td>\n",
       "      <td>1977-06-19</td>\n",
       "      <td>EUREKA, CA</td>\n",
       "      <td>Fatal(2)</td>\n",
       "      <td>Destroyed</td>\n",
       "      <td>NaN</td>\n",
       "      <td>Rockwell</td>\n",
       "      <td>112</td>\n",
       "      <td>No</td>\n",
       "      <td>1.0</td>\n",
       "      <td>Reciprocating</td>\n",
       "      <td>2.0</td>\n",
       "      <td>0.0</td>\n",
       "      <td>0.0</td>\n",
       "      <td>0.0</td>\n",
       "      <td>IMC</td>\n",
       "    </tr>\n",
       "    <tr>\n",
       "      <th>4</th>\n",
       "      <td>Accident</td>\n",
       "      <td>1979-08-02</td>\n",
       "      <td>Canton, OH</td>\n",
       "      <td>Fatal(1)</td>\n",
       "      <td>Destroyed</td>\n",
       "      <td>NaN</td>\n",
       "      <td>Cessna</td>\n",
       "      <td>501</td>\n",
       "      <td>No</td>\n",
       "      <td>NaN</td>\n",
       "      <td>NaN</td>\n",
       "      <td>1.0</td>\n",
       "      <td>2.0</td>\n",
       "      <td>NaN</td>\n",
       "      <td>0.0</td>\n",
       "      <td>VMC</td>\n",
       "    </tr>\n",
       "  </tbody>\n",
       "</table>\n",
       "</div>"
      ],
      "text/plain": [
       "  Investigation_Type  Event_Date         Location Injury_Severity  \\\n",
       "0           Accident  1948-10-24  MOOSE CREEK, ID        Fatal(2)   \n",
       "1           Accident  1962-07-19   BRIDGEPORT, CA        Fatal(4)   \n",
       "2           Accident  1974-08-30    Saltville, VA        Fatal(3)   \n",
       "3           Accident  1977-06-19       EUREKA, CA        Fatal(2)   \n",
       "4           Accident  1979-08-02       Canton, OH        Fatal(1)   \n",
       "\n",
       "  Aircraft_damage Aircraft_Category      Make     Model Amateur_Built  \\\n",
       "0       Destroyed               NaN   Stinson     108-3            No   \n",
       "1       Destroyed               NaN     Piper  PA24-180            No   \n",
       "2       Destroyed               NaN    Cessna      172M            No   \n",
       "3       Destroyed               NaN  Rockwell       112            No   \n",
       "4       Destroyed               NaN    Cessna       501            No   \n",
       "\n",
       "   Number_of_Engines    Engine_Type  Total_Fatal_Injuries  \\\n",
       "0                1.0  Reciprocating                   2.0   \n",
       "1                1.0  Reciprocating                   4.0   \n",
       "2                1.0  Reciprocating                   3.0   \n",
       "3                1.0  Reciprocating                   2.0   \n",
       "4                NaN            NaN                   1.0   \n",
       "\n",
       "   Total_Serious_Injuries  Total_Minor_Injuries  Total_Uninjured  \\\n",
       "0                     0.0                   0.0              0.0   \n",
       "1                     0.0                   0.0              0.0   \n",
       "2                     NaN                   NaN              NaN   \n",
       "3                     0.0                   0.0              0.0   \n",
       "4                     2.0                   NaN              0.0   \n",
       "\n",
       "  Weather_Condition  \n",
       "0               UNK  \n",
       "1               UNK  \n",
       "2               IMC  \n",
       "3               IMC  \n",
       "4               VMC  "
      ]
     },
     "execution_count": 20,
     "metadata": {},
     "output_type": "execute_result"
    }
   ],
   "source": [
    "# Replacing . with _\n",
    "us_df.columns = us_df.columns.str.replace('.', '_')\n",
    "\n",
    "us_df.head()"
   ]
  },
  {
   "cell_type": "code",
   "execution_count": 21,
   "metadata": {},
   "outputs": [
    {
     "name": "stdout",
     "output_type": "stream",
     "text": [
      "object\n"
     ]
    }
   ],
   "source": [
    "print(us_df[\"Event_Date\"].dtypes)"
   ]
  },
  {
   "cell_type": "code",
   "execution_count": 118,
   "metadata": {},
   "outputs": [
    {
     "data": {
      "application/vnd.microsoft.datawrangler.viewer.v0+json": {
       "columns": [
        {
         "name": "index",
         "rawType": "int64",
         "type": "integer"
        },
        {
         "name": "Investigation_Type",
         "rawType": "object",
         "type": "string"
        },
        {
         "name": "Location",
         "rawType": "object",
         "type": "string"
        },
        {
         "name": "Injury_Severity",
         "rawType": "object",
         "type": "string"
        },
        {
         "name": "Aircraft_damage",
         "rawType": "object",
         "type": "string"
        },
        {
         "name": "Aircraft_Category",
         "rawType": "object",
         "type": "unknown"
        },
        {
         "name": "Make",
         "rawType": "object",
         "type": "string"
        },
        {
         "name": "Model",
         "rawType": "object",
         "type": "string"
        },
        {
         "name": "Amateur_Built",
         "rawType": "object",
         "type": "string"
        },
        {
         "name": "Number_of_Engines",
         "rawType": "float64",
         "type": "float"
        },
        {
         "name": "Engine_Type",
         "rawType": "object",
         "type": "unknown"
        },
        {
         "name": "Total_Fatal_Injuries",
         "rawType": "float64",
         "type": "float"
        },
        {
         "name": "Total_Serious_Injuries",
         "rawType": "float64",
         "type": "float"
        },
        {
         "name": "Total_Minor_Injuries",
         "rawType": "float64",
         "type": "float"
        },
        {
         "name": "Total_Uninjured",
         "rawType": "float64",
         "type": "float"
        },
        {
         "name": "Weather_Condition",
         "rawType": "object",
         "type": "string"
        },
        {
         "name": "Year",
         "rawType": "int32",
         "type": "integer"
        }
       ],
       "conversionMethod": "pd.DataFrame",
       "ref": "e0906422-96a0-4de3-94a9-9940136146f5",
       "rows": [
        [
         "0",
         "Accident",
         "MOOSE CREEK, ID",
         "Fatal(2)",
         "Destroyed",
         null,
         "Stinson",
         "108-3",
         "No",
         "1.0",
         "Reciprocating",
         "2.0",
         "0.0",
         "0.0",
         "0.0",
         "UNK",
         "1948"
        ],
        [
         "1",
         "Accident",
         "BRIDGEPORT, CA",
         "Fatal(4)",
         "Destroyed",
         null,
         "Piper",
         "PA24-180",
         "No",
         "1.0",
         "Reciprocating",
         "4.0",
         "0.0",
         "0.0",
         "0.0",
         "UNK",
         "1962"
        ],
        [
         "2",
         "Accident",
         "Saltville, VA",
         "Fatal(3)",
         "Destroyed",
         null,
         "Cessna",
         "172M",
         "No",
         "1.0",
         "Reciprocating",
         "3.0",
         null,
         null,
         null,
         "IMC",
         "1974"
        ],
        [
         "3",
         "Accident",
         "EUREKA, CA",
         "Fatal(2)",
         "Destroyed",
         null,
         "Rockwell",
         "112",
         "No",
         "1.0",
         "Reciprocating",
         "2.0",
         "0.0",
         "0.0",
         "0.0",
         "IMC",
         "1977"
        ],
        [
         "4",
         "Accident",
         "Canton, OH",
         "Fatal(1)",
         "Destroyed",
         null,
         "Cessna",
         "501",
         "No",
         null,
         null,
         "1.0",
         "2.0",
         null,
         "0.0",
         "VMC",
         "1979"
        ]
       ],
       "shape": {
        "columns": 16,
        "rows": 5
       }
      },
      "text/html": [
       "<div>\n",
       "<style scoped>\n",
       "    .dataframe tbody tr th:only-of-type {\n",
       "        vertical-align: middle;\n",
       "    }\n",
       "\n",
       "    .dataframe tbody tr th {\n",
       "        vertical-align: top;\n",
       "    }\n",
       "\n",
       "    .dataframe thead th {\n",
       "        text-align: right;\n",
       "    }\n",
       "</style>\n",
       "<table border=\"1\" class=\"dataframe\">\n",
       "  <thead>\n",
       "    <tr style=\"text-align: right;\">\n",
       "      <th></th>\n",
       "      <th>Investigation_Type</th>\n",
       "      <th>Location</th>\n",
       "      <th>Injury_Severity</th>\n",
       "      <th>Aircraft_damage</th>\n",
       "      <th>Aircraft_Category</th>\n",
       "      <th>Make</th>\n",
       "      <th>Model</th>\n",
       "      <th>Amateur_Built</th>\n",
       "      <th>Number_of_Engines</th>\n",
       "      <th>Engine_Type</th>\n",
       "      <th>Total_Fatal_Injuries</th>\n",
       "      <th>Total_Serious_Injuries</th>\n",
       "      <th>Total_Minor_Injuries</th>\n",
       "      <th>Total_Uninjured</th>\n",
       "      <th>Weather_Condition</th>\n",
       "      <th>Year</th>\n",
       "    </tr>\n",
       "  </thead>\n",
       "  <tbody>\n",
       "    <tr>\n",
       "      <th>0</th>\n",
       "      <td>Accident</td>\n",
       "      <td>MOOSE CREEK, ID</td>\n",
       "      <td>Fatal(2)</td>\n",
       "      <td>Destroyed</td>\n",
       "      <td>NaN</td>\n",
       "      <td>Stinson</td>\n",
       "      <td>108-3</td>\n",
       "      <td>No</td>\n",
       "      <td>1.0</td>\n",
       "      <td>Reciprocating</td>\n",
       "      <td>2.0</td>\n",
       "      <td>0.0</td>\n",
       "      <td>0.0</td>\n",
       "      <td>0.0</td>\n",
       "      <td>UNK</td>\n",
       "      <td>1948</td>\n",
       "    </tr>\n",
       "    <tr>\n",
       "      <th>1</th>\n",
       "      <td>Accident</td>\n",
       "      <td>BRIDGEPORT, CA</td>\n",
       "      <td>Fatal(4)</td>\n",
       "      <td>Destroyed</td>\n",
       "      <td>NaN</td>\n",
       "      <td>Piper</td>\n",
       "      <td>PA24-180</td>\n",
       "      <td>No</td>\n",
       "      <td>1.0</td>\n",
       "      <td>Reciprocating</td>\n",
       "      <td>4.0</td>\n",
       "      <td>0.0</td>\n",
       "      <td>0.0</td>\n",
       "      <td>0.0</td>\n",
       "      <td>UNK</td>\n",
       "      <td>1962</td>\n",
       "    </tr>\n",
       "    <tr>\n",
       "      <th>2</th>\n",
       "      <td>Accident</td>\n",
       "      <td>Saltville, VA</td>\n",
       "      <td>Fatal(3)</td>\n",
       "      <td>Destroyed</td>\n",
       "      <td>NaN</td>\n",
       "      <td>Cessna</td>\n",
       "      <td>172M</td>\n",
       "      <td>No</td>\n",
       "      <td>1.0</td>\n",
       "      <td>Reciprocating</td>\n",
       "      <td>3.0</td>\n",
       "      <td>NaN</td>\n",
       "      <td>NaN</td>\n",
       "      <td>NaN</td>\n",
       "      <td>IMC</td>\n",
       "      <td>1974</td>\n",
       "    </tr>\n",
       "    <tr>\n",
       "      <th>3</th>\n",
       "      <td>Accident</td>\n",
       "      <td>EUREKA, CA</td>\n",
       "      <td>Fatal(2)</td>\n",
       "      <td>Destroyed</td>\n",
       "      <td>NaN</td>\n",
       "      <td>Rockwell</td>\n",
       "      <td>112</td>\n",
       "      <td>No</td>\n",
       "      <td>1.0</td>\n",
       "      <td>Reciprocating</td>\n",
       "      <td>2.0</td>\n",
       "      <td>0.0</td>\n",
       "      <td>0.0</td>\n",
       "      <td>0.0</td>\n",
       "      <td>IMC</td>\n",
       "      <td>1977</td>\n",
       "    </tr>\n",
       "    <tr>\n",
       "      <th>4</th>\n",
       "      <td>Accident</td>\n",
       "      <td>Canton, OH</td>\n",
       "      <td>Fatal(1)</td>\n",
       "      <td>Destroyed</td>\n",
       "      <td>NaN</td>\n",
       "      <td>Cessna</td>\n",
       "      <td>501</td>\n",
       "      <td>No</td>\n",
       "      <td>NaN</td>\n",
       "      <td>NaN</td>\n",
       "      <td>1.0</td>\n",
       "      <td>2.0</td>\n",
       "      <td>NaN</td>\n",
       "      <td>0.0</td>\n",
       "      <td>VMC</td>\n",
       "      <td>1979</td>\n",
       "    </tr>\n",
       "  </tbody>\n",
       "</table>\n",
       "</div>"
      ],
      "text/plain": [
       "  Investigation_Type         Location Injury_Severity Aircraft_damage  \\\n",
       "0           Accident  MOOSE CREEK, ID        Fatal(2)       Destroyed   \n",
       "1           Accident   BRIDGEPORT, CA        Fatal(4)       Destroyed   \n",
       "2           Accident    Saltville, VA        Fatal(3)       Destroyed   \n",
       "3           Accident       EUREKA, CA        Fatal(2)       Destroyed   \n",
       "4           Accident       Canton, OH        Fatal(1)       Destroyed   \n",
       "\n",
       "  Aircraft_Category      Make     Model Amateur_Built  Number_of_Engines  \\\n",
       "0               NaN   Stinson     108-3            No                1.0   \n",
       "1               NaN     Piper  PA24-180            No                1.0   \n",
       "2               NaN    Cessna      172M            No                1.0   \n",
       "3               NaN  Rockwell       112            No                1.0   \n",
       "4               NaN    Cessna       501            No                NaN   \n",
       "\n",
       "     Engine_Type  Total_Fatal_Injuries  Total_Serious_Injuries  \\\n",
       "0  Reciprocating                   2.0                     0.0   \n",
       "1  Reciprocating                   4.0                     0.0   \n",
       "2  Reciprocating                   3.0                     NaN   \n",
       "3  Reciprocating                   2.0                     0.0   \n",
       "4            NaN                   1.0                     2.0   \n",
       "\n",
       "   Total_Minor_Injuries  Total_Uninjured Weather_Condition  Year  \n",
       "0                   0.0              0.0               UNK  1948  \n",
       "1                   0.0              0.0               UNK  1962  \n",
       "2                   NaN              NaN               IMC  1974  \n",
       "3                   0.0              0.0               IMC  1977  \n",
       "4                   NaN              0.0               VMC  1979  "
      ]
     },
     "execution_count": 118,
     "metadata": {},
     "output_type": "execute_result"
    }
   ],
   "source": [
    "# Copy of data\n",
    "us_df1 = us_df.copy()\n",
    "\n",
    "# Converting Event_Date to datetime\n",
    "us_df1[\"Event_Date\"] = pd.to_datetime(us_df1[\"Event_Date\"])\n",
    "\n",
    "# Extracting year from Event_Date\n",
    "us_df1[\"Year\"] = us_df1[\"Event_Date\"].dt.year\n",
    "\n",
    "# Removing Event_Date column\n",
    "us_df1.drop(columns=[\"Event_Date\"], inplace=True)\n",
    "\n",
    "us_df1.head()"
   ]
  },
  {
   "cell_type": "markdown",
   "metadata": {},
   "source": [
    "*Checking for inconsistent naming*"
   ]
  },
  {
   "cell_type": "code",
   "execution_count": 119,
   "metadata": {},
   "outputs": [
    {
     "data": {
      "application/vnd.microsoft.datawrangler.viewer.v0+json": {
       "columns": [
        {
         "name": "index",
         "rawType": "int64",
         "type": "integer"
        },
        {
         "name": "Investigation_Type",
         "rawType": "object",
         "type": "string"
        },
        {
         "name": "Location",
         "rawType": "object",
         "type": "string"
        },
        {
         "name": "Injury_Severity",
         "rawType": "object",
         "type": "string"
        },
        {
         "name": "Aircraft_damage",
         "rawType": "object",
         "type": "string"
        },
        {
         "name": "Aircraft_Category",
         "rawType": "object",
         "type": "unknown"
        },
        {
         "name": "Make",
         "rawType": "object",
         "type": "string"
        },
        {
         "name": "Model",
         "rawType": "object",
         "type": "string"
        },
        {
         "name": "Amateur_Built",
         "rawType": "object",
         "type": "string"
        },
        {
         "name": "Number_of_Engines",
         "rawType": "float64",
         "type": "float"
        },
        {
         "name": "Engine_Type",
         "rawType": "object",
         "type": "unknown"
        },
        {
         "name": "Total_Fatal_Injuries",
         "rawType": "float64",
         "type": "float"
        },
        {
         "name": "Total_Serious_Injuries",
         "rawType": "float64",
         "type": "float"
        },
        {
         "name": "Total_Minor_Injuries",
         "rawType": "float64",
         "type": "float"
        },
        {
         "name": "Total_Uninjured",
         "rawType": "float64",
         "type": "float"
        },
        {
         "name": "Weather_Condition",
         "rawType": "object",
         "type": "string"
        },
        {
         "name": "Year",
         "rawType": "int32",
         "type": "integer"
        }
       ],
       "conversionMethod": "pd.DataFrame",
       "ref": "78d4619d-8fb4-4914-91b7-d2ec943cb198",
       "rows": [
        [
         "0",
         "Accident",
         "MOOSE CREEK, ID",
         "Fatal",
         "Destroyed",
         null,
         "Stinson",
         "108-3",
         "No",
         "1.0",
         "Reciprocating",
         "2.0",
         "0.0",
         "0.0",
         "0.0",
         "UNK",
         "1948"
        ],
        [
         "1",
         "Accident",
         "BRIDGEPORT, CA",
         "Fatal",
         "Destroyed",
         null,
         "Piper",
         "PA24-180",
         "No",
         "1.0",
         "Reciprocating",
         "4.0",
         "0.0",
         "0.0",
         "0.0",
         "UNK",
         "1962"
        ],
        [
         "2",
         "Accident",
         "Saltville, VA",
         "Fatal",
         "Destroyed",
         null,
         "Cessna",
         "172M",
         "No",
         "1.0",
         "Reciprocating",
         "3.0",
         null,
         null,
         null,
         "IMC",
         "1974"
        ],
        [
         "3",
         "Accident",
         "EUREKA, CA",
         "Fatal",
         "Destroyed",
         null,
         "Rockwell",
         "112",
         "No",
         "1.0",
         "Reciprocating",
         "2.0",
         "0.0",
         "0.0",
         "0.0",
         "IMC",
         "1977"
        ],
        [
         "4",
         "Accident",
         "Canton, OH",
         "Fatal",
         "Destroyed",
         null,
         "Cessna",
         "501",
         "No",
         null,
         null,
         "1.0",
         "2.0",
         null,
         "0.0",
         "VMC",
         "1979"
        ]
       ],
       "shape": {
        "columns": 16,
        "rows": 5
       }
      },
      "text/html": [
       "<div>\n",
       "<style scoped>\n",
       "    .dataframe tbody tr th:only-of-type {\n",
       "        vertical-align: middle;\n",
       "    }\n",
       "\n",
       "    .dataframe tbody tr th {\n",
       "        vertical-align: top;\n",
       "    }\n",
       "\n",
       "    .dataframe thead th {\n",
       "        text-align: right;\n",
       "    }\n",
       "</style>\n",
       "<table border=\"1\" class=\"dataframe\">\n",
       "  <thead>\n",
       "    <tr style=\"text-align: right;\">\n",
       "      <th></th>\n",
       "      <th>Investigation_Type</th>\n",
       "      <th>Location</th>\n",
       "      <th>Injury_Severity</th>\n",
       "      <th>Aircraft_damage</th>\n",
       "      <th>Aircraft_Category</th>\n",
       "      <th>Make</th>\n",
       "      <th>Model</th>\n",
       "      <th>Amateur_Built</th>\n",
       "      <th>Number_of_Engines</th>\n",
       "      <th>Engine_Type</th>\n",
       "      <th>Total_Fatal_Injuries</th>\n",
       "      <th>Total_Serious_Injuries</th>\n",
       "      <th>Total_Minor_Injuries</th>\n",
       "      <th>Total_Uninjured</th>\n",
       "      <th>Weather_Condition</th>\n",
       "      <th>Year</th>\n",
       "    </tr>\n",
       "  </thead>\n",
       "  <tbody>\n",
       "    <tr>\n",
       "      <th>0</th>\n",
       "      <td>Accident</td>\n",
       "      <td>MOOSE CREEK, ID</td>\n",
       "      <td>Fatal</td>\n",
       "      <td>Destroyed</td>\n",
       "      <td>NaN</td>\n",
       "      <td>Stinson</td>\n",
       "      <td>108-3</td>\n",
       "      <td>No</td>\n",
       "      <td>1.0</td>\n",
       "      <td>Reciprocating</td>\n",
       "      <td>2.0</td>\n",
       "      <td>0.0</td>\n",
       "      <td>0.0</td>\n",
       "      <td>0.0</td>\n",
       "      <td>UNK</td>\n",
       "      <td>1948</td>\n",
       "    </tr>\n",
       "    <tr>\n",
       "      <th>1</th>\n",
       "      <td>Accident</td>\n",
       "      <td>BRIDGEPORT, CA</td>\n",
       "      <td>Fatal</td>\n",
       "      <td>Destroyed</td>\n",
       "      <td>NaN</td>\n",
       "      <td>Piper</td>\n",
       "      <td>PA24-180</td>\n",
       "      <td>No</td>\n",
       "      <td>1.0</td>\n",
       "      <td>Reciprocating</td>\n",
       "      <td>4.0</td>\n",
       "      <td>0.0</td>\n",
       "      <td>0.0</td>\n",
       "      <td>0.0</td>\n",
       "      <td>UNK</td>\n",
       "      <td>1962</td>\n",
       "    </tr>\n",
       "    <tr>\n",
       "      <th>2</th>\n",
       "      <td>Accident</td>\n",
       "      <td>Saltville, VA</td>\n",
       "      <td>Fatal</td>\n",
       "      <td>Destroyed</td>\n",
       "      <td>NaN</td>\n",
       "      <td>Cessna</td>\n",
       "      <td>172M</td>\n",
       "      <td>No</td>\n",
       "      <td>1.0</td>\n",
       "      <td>Reciprocating</td>\n",
       "      <td>3.0</td>\n",
       "      <td>NaN</td>\n",
       "      <td>NaN</td>\n",
       "      <td>NaN</td>\n",
       "      <td>IMC</td>\n",
       "      <td>1974</td>\n",
       "    </tr>\n",
       "    <tr>\n",
       "      <th>3</th>\n",
       "      <td>Accident</td>\n",
       "      <td>EUREKA, CA</td>\n",
       "      <td>Fatal</td>\n",
       "      <td>Destroyed</td>\n",
       "      <td>NaN</td>\n",
       "      <td>Rockwell</td>\n",
       "      <td>112</td>\n",
       "      <td>No</td>\n",
       "      <td>1.0</td>\n",
       "      <td>Reciprocating</td>\n",
       "      <td>2.0</td>\n",
       "      <td>0.0</td>\n",
       "      <td>0.0</td>\n",
       "      <td>0.0</td>\n",
       "      <td>IMC</td>\n",
       "      <td>1977</td>\n",
       "    </tr>\n",
       "    <tr>\n",
       "      <th>4</th>\n",
       "      <td>Accident</td>\n",
       "      <td>Canton, OH</td>\n",
       "      <td>Fatal</td>\n",
       "      <td>Destroyed</td>\n",
       "      <td>NaN</td>\n",
       "      <td>Cessna</td>\n",
       "      <td>501</td>\n",
       "      <td>No</td>\n",
       "      <td>NaN</td>\n",
       "      <td>NaN</td>\n",
       "      <td>1.0</td>\n",
       "      <td>2.0</td>\n",
       "      <td>NaN</td>\n",
       "      <td>0.0</td>\n",
       "      <td>VMC</td>\n",
       "      <td>1979</td>\n",
       "    </tr>\n",
       "  </tbody>\n",
       "</table>\n",
       "</div>"
      ],
      "text/plain": [
       "  Investigation_Type         Location Injury_Severity Aircraft_damage  \\\n",
       "0           Accident  MOOSE CREEK, ID           Fatal       Destroyed   \n",
       "1           Accident   BRIDGEPORT, CA           Fatal       Destroyed   \n",
       "2           Accident    Saltville, VA           Fatal       Destroyed   \n",
       "3           Accident       EUREKA, CA           Fatal       Destroyed   \n",
       "4           Accident       Canton, OH           Fatal       Destroyed   \n",
       "\n",
       "  Aircraft_Category      Make     Model Amateur_Built  Number_of_Engines  \\\n",
       "0               NaN   Stinson     108-3            No                1.0   \n",
       "1               NaN     Piper  PA24-180            No                1.0   \n",
       "2               NaN    Cessna      172M            No                1.0   \n",
       "3               NaN  Rockwell       112            No                1.0   \n",
       "4               NaN    Cessna       501            No                NaN   \n",
       "\n",
       "     Engine_Type  Total_Fatal_Injuries  Total_Serious_Injuries  \\\n",
       "0  Reciprocating                   2.0                     0.0   \n",
       "1  Reciprocating                   4.0                     0.0   \n",
       "2  Reciprocating                   3.0                     NaN   \n",
       "3  Reciprocating                   2.0                     0.0   \n",
       "4            NaN                   1.0                     2.0   \n",
       "\n",
       "   Total_Minor_Injuries  Total_Uninjured Weather_Condition  Year  \n",
       "0                   0.0              0.0               UNK  1948  \n",
       "1                   0.0              0.0               UNK  1962  \n",
       "2                   NaN              NaN               IMC  1974  \n",
       "3                   0.0              0.0               IMC  1977  \n",
       "4                   NaN              0.0               VMC  1979  "
      ]
     },
     "execution_count": 119,
     "metadata": {},
     "output_type": "execute_result"
    }
   ],
   "source": [
    "# Clean the Injury_Severity column by removing numbers\n",
    "us_df1[\"Injury_Severity\"] = us_df1[\"Injury_Severity\"].str.replace(r\"\\(\\d+\\)\", \"\", regex=True)\n",
    "\n",
    "us_df1.head()\n"
   ]
  },
  {
   "cell_type": "code",
   "execution_count": 120,
   "metadata": {},
   "outputs": [
    {
     "name": "stdout",
     "output_type": "stream",
     "text": [
      "Unique values in Investigation_Type:\n",
      "Investigation_Type\n",
      "Accident    79906\n",
      "Incident     2342\n",
      "Name: count, dtype: int64\n",
      "\n",
      "--------------------------------------------------\n",
      "\n",
      "Unique values in Location:\n",
      "Location\n",
      "ANCHORAGE, AK       434\n",
      "MIAMI, FL           200\n",
      "ALBUQUERQUE, NM     196\n",
      "HOUSTON, TX         193\n",
      "CHICAGO, IL         184\n",
      "                   ... \n",
      "Stanwood, IA          1\n",
      "GALETON, PA           1\n",
      "Auburn Hills, MI      1\n",
      "Bignell, NE           1\n",
      "Florence, AZ          1\n",
      "Name: count, Length: 23030, dtype: int64\n",
      "\n",
      "--------------------------------------------------\n",
      "\n",
      "Unique values in Injury_Severity:\n",
      "Injury_Severity\n",
      "Non-Fatal      64870\n",
      "Fatal          15026\n",
      "Incident        1873\n",
      "Minor            203\n",
      "Serious          153\n",
      "Unavailable       15\n",
      "Name: count, dtype: int64\n",
      "\n",
      "--------------------------------------------------\n",
      "\n",
      "Unique values in Aircraft_damage:\n",
      "Aircraft_damage\n",
      "Substantial    61675\n",
      "Destroyed      16425\n",
      "Minor           2119\n",
      "Unknown           50\n",
      "Name: count, dtype: int64\n",
      "\n",
      "--------------------------------------------------\n",
      "\n",
      "Unique values in Aircraft_Category:\n",
      "Aircraft_Category\n",
      "Airplane             24229\n",
      "Helicopter            2723\n",
      "Glider                 503\n",
      "Balloon                229\n",
      "Gyrocraft              172\n",
      "Weight-Shift           161\n",
      "Powered Parachute       90\n",
      "Ultralight              25\n",
      "WSFT                     9\n",
      "Unknown                  4\n",
      "Blimp                    4\n",
      "Powered-Lift             3\n",
      "Rocket                   1\n",
      "ULTR                     1\n",
      "Name: count, dtype: int64\n",
      "\n",
      "--------------------------------------------------\n",
      "\n",
      "Unique values in Make:\n",
      "Make\n",
      "Cessna               21573\n",
      "Piper                11661\n",
      "CESSNA                4280\n",
      "Beech                 4167\n",
      "PIPER                 2507\n",
      "                     ...  \n",
      "PHANTOM                  1\n",
      "GREG HOBBS               1\n",
      "JAMES R DERNOVSEK        1\n",
      "ORLICAN S R O            1\n",
      "STEPHEN J HOFFMAN        1\n",
      "Name: count, Length: 8001, dtype: int64\n",
      "\n",
      "--------------------------------------------------\n",
      "\n",
      "Unique values in Model:\n",
      "Model\n",
      "152                    2323\n",
      "172                    1637\n",
      "172N                   1136\n",
      "PA-28-140               910\n",
      "150                     790\n",
      "                       ... \n",
      "WHITMAN TAILWIND          1\n",
      "ROTORWAY EXEC 162-F       1\n",
      "MH-60R                    1\n",
      "ZENAIR CH 601 HD          1\n",
      "ZENAIR STOLCH 750         1\n",
      "Name: count, Length: 11443, dtype: int64\n",
      "\n",
      "--------------------------------------------------\n",
      "\n",
      "Unique values in Amateur_Built:\n",
      "Amateur_Built\n",
      "No     73906\n",
      "Yes     8321\n",
      "Name: count, dtype: int64\n",
      "\n",
      "--------------------------------------------------\n",
      "\n",
      "Unique values in Engine_Type:\n",
      "Engine_Type\n",
      "Reciprocating    68507\n",
      "Turbo Shaft       3331\n",
      "Turbo Prop        3206\n",
      "Turbo Fan         2094\n",
      "Unknown           1385\n",
      "Turbo Jet          667\n",
      "Electric            10\n",
      "LR                   2\n",
      "NONE                 2\n",
      "Hybrid Rocket        1\n",
      "UNK                  1\n",
      "Name: count, dtype: int64\n",
      "\n",
      "--------------------------------------------------\n",
      "\n",
      "Unique values in Weather_Condition:\n",
      "Weather_Condition\n",
      "VMC    75317\n",
      "IMC     5618\n",
      "UNK      547\n",
      "Unk      121\n",
      "Name: count, dtype: int64\n",
      "\n",
      "--------------------------------------------------\n",
      "\n"
     ]
    }
   ],
   "source": [
    "for col in us_df1.select_dtypes(include=\"object\"): \n",
    "    print(f\"Unique values in {col}:\")\n",
    "    print(us_df1[col].value_counts())  \n",
    "    print(\"\\n\" + \"-\"*50 + \"\\n\")"
   ]
  },
  {
   "cell_type": "code",
   "execution_count": 121,
   "metadata": {},
   "outputs": [
    {
     "name": "stdout",
     "output_type": "stream",
     "text": [
      "Unique values in Investigation_Type:\n",
      "Investigation_Type\n",
      "Accident    77869\n",
      "Incident     2259\n",
      "Name: count, dtype: int64\n",
      "\n",
      "--------------------------------------------------\n",
      "\n",
      "Unique values in Location:\n",
      "Location\n",
      "Anchorage, ak      538\n",
      "Miami, fl          269\n",
      "Houston, tx        265\n",
      "Chicago, il        246\n",
      "Fairbanks, ak      244\n",
      "                  ... \n",
      "Southington, oh      1\n",
      "Lordstown, oh        1\n",
      "Chandler, tx         1\n",
      "Herlong, nv          1\n",
      "Stanwood, ia         1\n",
      "Name: count, Length: 17318, dtype: int64\n",
      "\n",
      "--------------------------------------------------\n",
      "\n",
      "Unique values in Injury_Severity:\n",
      "Injury_Severity\n",
      "Non-fatal      63355\n",
      "Fatal          14510\n",
      "Incident        1817\n",
      "Minor            199\n",
      "Serious          148\n",
      "Unavailable        3\n",
      "Name: count, dtype: int64\n",
      "\n",
      "--------------------------------------------------\n",
      "\n",
      "Unique values in Aircraft_damage:\n",
      "Aircraft_damage\n",
      "Substantial    60535\n",
      "Destroyed      15840\n",
      "Minor           2012\n",
      "Name: count, dtype: int64\n",
      "\n",
      "--------------------------------------------------\n",
      "\n",
      "Unique values in Aircraft_Category:\n",
      "Aircraft_Category\n",
      "Airplane             23992\n",
      "Helicopter            2707\n",
      "Glider                 449\n",
      "Balloon                194\n",
      "Gyrocraft              172\n",
      "Weight-shift           159\n",
      "Powered parachute       90\n",
      "Ultralight              25\n",
      "Wsft                     9\n",
      "Blimp                    4\n",
      "Powered-lift             3\n",
      "Rocket                   1\n",
      "Ultr                     1\n",
      "Name: count, dtype: int64\n",
      "\n",
      "--------------------------------------------------\n",
      "\n",
      "Unique values in Make:\n",
      "Make\n",
      "Cessna             25609\n",
      "Piper              13995\n",
      "Beech               5010\n",
      "Bell                2236\n",
      "Boeing              1431\n",
      "                   ...  \n",
      "Sons mustang           1\n",
      "Orlican s r o          1\n",
      "Owen kingsley b        1\n",
      "Scott terry g          1\n",
      "Arter warren           1\n",
      "Name: count, Length: 7281, dtype: int64\n",
      "\n",
      "--------------------------------------------------\n",
      "\n",
      "Unique values in Model:\n",
      "Model\n",
      "152                     2307\n",
      "172                     1626\n",
      "172n                    1124\n",
      "Pa-28-140                896\n",
      "150                      790\n",
      "                        ... \n",
      "Ms-500                     1\n",
      "Patrol                     1\n",
      "Stolp sdtr too sa300       1\n",
      "J3f-60                     1\n",
      "A22ls                      1\n",
      "Name: count, Length: 10371, dtype: int64\n",
      "\n",
      "--------------------------------------------------\n",
      "\n",
      "Unique values in Amateur_Built:\n",
      "Amateur_Built\n",
      "No     71958\n",
      "Yes     8150\n",
      "Name: count, dtype: int64\n",
      "\n",
      "--------------------------------------------------\n",
      "\n",
      "Unique values in Engine_Type:\n",
      "Engine_Type\n",
      "Reciprocating    67977\n",
      "Turbo shaft       3296\n",
      "Turbo prop        3184\n",
      "Turbo fan         2028\n",
      "Turbo jet          657\n",
      "Electric            10\n",
      "Lr                   2\n",
      "None                 2\n",
      "Hybrid rocket        1\n",
      "Name: count, dtype: int64\n",
      "\n",
      "--------------------------------------------------\n",
      "\n",
      "Unique values in Weather_Condition:\n",
      "Weather_Condition\n",
      "Vmc    73891\n",
      "Imc     5604\n",
      "Name: count, dtype: int64\n",
      "\n",
      "--------------------------------------------------\n",
      "\n"
     ]
    }
   ],
   "source": [
    "# Cleaning my text columns\n",
    "def clean_text_columns(df, unwanted_values):\n",
    "    \"\"\"Cleans text columns by standardising format and removing unwanted values.\"\"\"\n",
    "\n",
    "    for col in df.select_dtypes(include=\"object\"): \n",
    "        df[col] = df[col].str.lower().str.strip().str.capitalize()\n",
    "        df = df[~df[col].isin(unwanted_values)]\n",
    "    return df\n",
    "\n",
    "# Unwanted values after scanning the output above\n",
    "unwanted_values = [\"UNK\", \"NONE\", \"Unknown\", \"Unk\", \"Other\"]\n",
    "\n",
    "# Apply function to clean the DataFrame\n",
    "us_df1 = clean_text_columns(us_df1, unwanted_values)\n",
    "\n",
    "# Check unique values after cleaning\n",
    "for col in us_df1.select_dtypes(include=\"object\"):  \n",
    "    print(f\"Unique values in {col}:\")\n",
    "    print(us_df1[col].value_counts())  \n",
    "    print(\"\\n\" + \"-\"*50 + \"\\n\")"
   ]
  },
  {
   "cell_type": "markdown",
   "metadata": {},
   "source": [
    "**Filtering Missing/Incorrect Data**"
   ]
  },
  {
   "cell_type": "code",
   "execution_count": 122,
   "metadata": {},
   "outputs": [
    {
     "data": {
      "application/vnd.microsoft.datawrangler.viewer.v0+json": {
       "columns": [
        {
         "name": "index",
         "rawType": "int64",
         "type": "integer"
        },
        {
         "name": "Investigation_Type",
         "rawType": "object",
         "type": "string"
        },
        {
         "name": "Location",
         "rawType": "object",
         "type": "string"
        },
        {
         "name": "Injury_Severity",
         "rawType": "object",
         "type": "string"
        },
        {
         "name": "Aircraft_damage",
         "rawType": "object",
         "type": "string"
        },
        {
         "name": "Aircraft_Category",
         "rawType": "object",
         "type": "unknown"
        },
        {
         "name": "Make",
         "rawType": "object",
         "type": "string"
        },
        {
         "name": "Model",
         "rawType": "object",
         "type": "string"
        },
        {
         "name": "Amateur_Built",
         "rawType": "object",
         "type": "string"
        },
        {
         "name": "Number_of_Engines",
         "rawType": "float64",
         "type": "float"
        },
        {
         "name": "Engine_Type",
         "rawType": "object",
         "type": "unknown"
        },
        {
         "name": "Total_Fatal_Injuries",
         "rawType": "float64",
         "type": "float"
        },
        {
         "name": "Total_Serious_Injuries",
         "rawType": "float64",
         "type": "float"
        },
        {
         "name": "Total_Minor_Injuries",
         "rawType": "float64",
         "type": "float"
        },
        {
         "name": "Total_Uninjured",
         "rawType": "float64",
         "type": "float"
        },
        {
         "name": "Weather_Condition",
         "rawType": "object",
         "type": "string"
        },
        {
         "name": "Year",
         "rawType": "int32",
         "type": "integer"
        }
       ],
       "conversionMethod": "pd.DataFrame",
       "ref": "53f4d6fd-55fc-42e9-98aa-353c420a6001",
       "rows": [
        [
         "2",
         "Accident",
         "Saltville, va",
         "Fatal",
         "Destroyed",
         null,
         "Cessna",
         "172m",
         "No",
         "1.0",
         "Reciprocating",
         "3.0",
         null,
         null,
         null,
         "Imc",
         "1974"
        ],
        [
         "3",
         "Accident",
         "Eureka, ca",
         "Fatal",
         "Destroyed",
         null,
         "Rockwell",
         "112",
         "No",
         "1.0",
         "Reciprocating",
         "2.0",
         "0.0",
         "0.0",
         "0.0",
         "Imc",
         "1977"
        ],
        [
         "4",
         "Accident",
         "Canton, oh",
         "Fatal",
         "Destroyed",
         null,
         "Cessna",
         "501",
         "No",
         null,
         null,
         "1.0",
         "2.0",
         null,
         "0.0",
         "Vmc",
         "1979"
        ],
        [
         "5",
         "Accident",
         "Boston, ma",
         "Non-fatal",
         "Substantial",
         "Airplane",
         "Mcdonnell douglas",
         "Dc9",
         "No",
         "2.0",
         "Turbo fan",
         null,
         null,
         "1.0",
         "44.0",
         "Vmc",
         "1979"
        ],
        [
         "6",
         "Accident",
         "Cotton, mn",
         "Fatal",
         "Destroyed",
         null,
         "Cessna",
         "180",
         "No",
         "1.0",
         "Reciprocating",
         "4.0",
         "0.0",
         "0.0",
         "0.0",
         "Imc",
         "1981"
        ]
       ],
       "shape": {
        "columns": 16,
        "rows": 5
       }
      },
      "text/html": [
       "<div>\n",
       "<style scoped>\n",
       "    .dataframe tbody tr th:only-of-type {\n",
       "        vertical-align: middle;\n",
       "    }\n",
       "\n",
       "    .dataframe tbody tr th {\n",
       "        vertical-align: top;\n",
       "    }\n",
       "\n",
       "    .dataframe thead th {\n",
       "        text-align: right;\n",
       "    }\n",
       "</style>\n",
       "<table border=\"1\" class=\"dataframe\">\n",
       "  <thead>\n",
       "    <tr style=\"text-align: right;\">\n",
       "      <th></th>\n",
       "      <th>Investigation_Type</th>\n",
       "      <th>Location</th>\n",
       "      <th>Injury_Severity</th>\n",
       "      <th>Aircraft_damage</th>\n",
       "      <th>Aircraft_Category</th>\n",
       "      <th>Make</th>\n",
       "      <th>Model</th>\n",
       "      <th>Amateur_Built</th>\n",
       "      <th>Number_of_Engines</th>\n",
       "      <th>Engine_Type</th>\n",
       "      <th>Total_Fatal_Injuries</th>\n",
       "      <th>Total_Serious_Injuries</th>\n",
       "      <th>Total_Minor_Injuries</th>\n",
       "      <th>Total_Uninjured</th>\n",
       "      <th>Weather_Condition</th>\n",
       "      <th>Year</th>\n",
       "    </tr>\n",
       "  </thead>\n",
       "  <tbody>\n",
       "    <tr>\n",
       "      <th>2</th>\n",
       "      <td>Accident</td>\n",
       "      <td>Saltville, va</td>\n",
       "      <td>Fatal</td>\n",
       "      <td>Destroyed</td>\n",
       "      <td>NaN</td>\n",
       "      <td>Cessna</td>\n",
       "      <td>172m</td>\n",
       "      <td>No</td>\n",
       "      <td>1.0</td>\n",
       "      <td>Reciprocating</td>\n",
       "      <td>3.0</td>\n",
       "      <td>NaN</td>\n",
       "      <td>NaN</td>\n",
       "      <td>NaN</td>\n",
       "      <td>Imc</td>\n",
       "      <td>1974</td>\n",
       "    </tr>\n",
       "    <tr>\n",
       "      <th>3</th>\n",
       "      <td>Accident</td>\n",
       "      <td>Eureka, ca</td>\n",
       "      <td>Fatal</td>\n",
       "      <td>Destroyed</td>\n",
       "      <td>NaN</td>\n",
       "      <td>Rockwell</td>\n",
       "      <td>112</td>\n",
       "      <td>No</td>\n",
       "      <td>1.0</td>\n",
       "      <td>Reciprocating</td>\n",
       "      <td>2.0</td>\n",
       "      <td>0.0</td>\n",
       "      <td>0.0</td>\n",
       "      <td>0.0</td>\n",
       "      <td>Imc</td>\n",
       "      <td>1977</td>\n",
       "    </tr>\n",
       "    <tr>\n",
       "      <th>4</th>\n",
       "      <td>Accident</td>\n",
       "      <td>Canton, oh</td>\n",
       "      <td>Fatal</td>\n",
       "      <td>Destroyed</td>\n",
       "      <td>NaN</td>\n",
       "      <td>Cessna</td>\n",
       "      <td>501</td>\n",
       "      <td>No</td>\n",
       "      <td>NaN</td>\n",
       "      <td>NaN</td>\n",
       "      <td>1.0</td>\n",
       "      <td>2.0</td>\n",
       "      <td>NaN</td>\n",
       "      <td>0.0</td>\n",
       "      <td>Vmc</td>\n",
       "      <td>1979</td>\n",
       "    </tr>\n",
       "    <tr>\n",
       "      <th>5</th>\n",
       "      <td>Accident</td>\n",
       "      <td>Boston, ma</td>\n",
       "      <td>Non-fatal</td>\n",
       "      <td>Substantial</td>\n",
       "      <td>Airplane</td>\n",
       "      <td>Mcdonnell douglas</td>\n",
       "      <td>Dc9</td>\n",
       "      <td>No</td>\n",
       "      <td>2.0</td>\n",
       "      <td>Turbo fan</td>\n",
       "      <td>NaN</td>\n",
       "      <td>NaN</td>\n",
       "      <td>1.0</td>\n",
       "      <td>44.0</td>\n",
       "      <td>Vmc</td>\n",
       "      <td>1979</td>\n",
       "    </tr>\n",
       "    <tr>\n",
       "      <th>6</th>\n",
       "      <td>Accident</td>\n",
       "      <td>Cotton, mn</td>\n",
       "      <td>Fatal</td>\n",
       "      <td>Destroyed</td>\n",
       "      <td>NaN</td>\n",
       "      <td>Cessna</td>\n",
       "      <td>180</td>\n",
       "      <td>No</td>\n",
       "      <td>1.0</td>\n",
       "      <td>Reciprocating</td>\n",
       "      <td>4.0</td>\n",
       "      <td>0.0</td>\n",
       "      <td>0.0</td>\n",
       "      <td>0.0</td>\n",
       "      <td>Imc</td>\n",
       "      <td>1981</td>\n",
       "    </tr>\n",
       "  </tbody>\n",
       "</table>\n",
       "</div>"
      ],
      "text/plain": [
       "  Investigation_Type       Location Injury_Severity Aircraft_damage  \\\n",
       "2           Accident  Saltville, va           Fatal       Destroyed   \n",
       "3           Accident     Eureka, ca           Fatal       Destroyed   \n",
       "4           Accident     Canton, oh           Fatal       Destroyed   \n",
       "5           Accident     Boston, ma       Non-fatal     Substantial   \n",
       "6           Accident     Cotton, mn           Fatal       Destroyed   \n",
       "\n",
       "  Aircraft_Category               Make Model Amateur_Built  Number_of_Engines  \\\n",
       "2               NaN             Cessna  172m            No                1.0   \n",
       "3               NaN           Rockwell   112            No                1.0   \n",
       "4               NaN             Cessna   501            No                NaN   \n",
       "5          Airplane  Mcdonnell douglas   Dc9            No                2.0   \n",
       "6               NaN             Cessna   180            No                1.0   \n",
       "\n",
       "     Engine_Type  Total_Fatal_Injuries  Total_Serious_Injuries  \\\n",
       "2  Reciprocating                   3.0                     NaN   \n",
       "3  Reciprocating                   2.0                     0.0   \n",
       "4            NaN                   1.0                     2.0   \n",
       "5      Turbo fan                   NaN                     NaN   \n",
       "6  Reciprocating                   4.0                     0.0   \n",
       "\n",
       "   Total_Minor_Injuries  Total_Uninjured Weather_Condition  Year  \n",
       "2                   NaN              NaN               Imc  1974  \n",
       "3                   0.0              0.0               Imc  1977  \n",
       "4                   NaN              0.0               Vmc  1979  \n",
       "5                   1.0             44.0               Vmc  1979  \n",
       "6                   0.0              0.0               Imc  1981  "
      ]
     },
     "execution_count": 122,
     "metadata": {},
     "output_type": "execute_result"
    }
   ],
   "source": [
    "us_df1.head()"
   ]
  },
  {
   "cell_type": "code",
   "execution_count": 123,
   "metadata": {},
   "outputs": [
    {
     "data": {
      "application/vnd.microsoft.datawrangler.viewer.v0+json": {
       "columns": [
        {
         "name": "index",
         "rawType": "int64",
         "type": "integer"
        },
        {
         "name": "US_State",
         "rawType": "object",
         "type": "string"
        },
        {
         "name": "Abbreviation",
         "rawType": "object",
         "type": "string"
        }
       ],
       "conversionMethod": "pd.DataFrame",
       "ref": "70c948c8-03e3-4082-b3c8-add360249718",
       "rows": [
        [
         "0",
         "Alabama",
         "AL"
        ],
        [
         "1",
         "Alaska",
         "AK"
        ],
        [
         "2",
         "Arizona",
         "AZ"
        ],
        [
         "3",
         "Arkansas",
         "AR"
        ],
        [
         "4",
         "California",
         "CA"
        ]
       ],
       "shape": {
        "columns": 2,
        "rows": 5
       }
      },
      "text/html": [
       "<div>\n",
       "<style scoped>\n",
       "    .dataframe tbody tr th:only-of-type {\n",
       "        vertical-align: middle;\n",
       "    }\n",
       "\n",
       "    .dataframe tbody tr th {\n",
       "        vertical-align: top;\n",
       "    }\n",
       "\n",
       "    .dataframe thead th {\n",
       "        text-align: right;\n",
       "    }\n",
       "</style>\n",
       "<table border=\"1\" class=\"dataframe\">\n",
       "  <thead>\n",
       "    <tr style=\"text-align: right;\">\n",
       "      <th></th>\n",
       "      <th>US_State</th>\n",
       "      <th>Abbreviation</th>\n",
       "    </tr>\n",
       "  </thead>\n",
       "  <tbody>\n",
       "    <tr>\n",
       "      <th>0</th>\n",
       "      <td>Alabama</td>\n",
       "      <td>AL</td>\n",
       "    </tr>\n",
       "    <tr>\n",
       "      <th>1</th>\n",
       "      <td>Alaska</td>\n",
       "      <td>AK</td>\n",
       "    </tr>\n",
       "    <tr>\n",
       "      <th>2</th>\n",
       "      <td>Arizona</td>\n",
       "      <td>AZ</td>\n",
       "    </tr>\n",
       "    <tr>\n",
       "      <th>3</th>\n",
       "      <td>Arkansas</td>\n",
       "      <td>AR</td>\n",
       "    </tr>\n",
       "    <tr>\n",
       "      <th>4</th>\n",
       "      <td>California</td>\n",
       "      <td>CA</td>\n",
       "    </tr>\n",
       "  </tbody>\n",
       "</table>\n",
       "</div>"
      ],
      "text/plain": [
       "     US_State Abbreviation\n",
       "0     Alabama           AL\n",
       "1      Alaska           AK\n",
       "2     Arizona           AZ\n",
       "3    Arkansas           AR\n",
       "4  California           CA"
      ]
     },
     "execution_count": 123,
     "metadata": {},
     "output_type": "execute_result"
    }
   ],
   "source": [
    "states = pd.read_csv(\"aircraft_safety/data/US_State_Codes.csv\")\n",
    "states.head()"
   ]
  },
  {
   "cell_type": "code",
   "execution_count": 124,
   "metadata": {},
   "outputs": [
    {
     "data": {
      "application/vnd.microsoft.datawrangler.viewer.v0+json": {
       "columns": [
        {
         "name": "index",
         "rawType": "int64",
         "type": "integer"
        },
        {
         "name": "Location",
         "rawType": "object",
         "type": "string"
        },
        {
         "name": "state_abbrev",
         "rawType": "object",
         "type": "string"
        }
       ],
       "conversionMethod": "pd.DataFrame",
       "ref": "d8099c30-907a-40cc-8e4d-b4bc21d5b485",
       "rows": [
        [
         "2",
         "Saltville, va",
         "VA"
        ],
        [
         "3",
         "Eureka, ca",
         "CA"
        ],
        [
         "4",
         "Canton, oh",
         "OH"
        ],
        [
         "5",
         "Boston, ma",
         "MA"
        ],
        [
         "6",
         "Cotton, mn",
         "MN"
        ]
       ],
       "shape": {
        "columns": 2,
        "rows": 5
       }
      },
      "text/html": [
       "<div>\n",
       "<style scoped>\n",
       "    .dataframe tbody tr th:only-of-type {\n",
       "        vertical-align: middle;\n",
       "    }\n",
       "\n",
       "    .dataframe tbody tr th {\n",
       "        vertical-align: top;\n",
       "    }\n",
       "\n",
       "    .dataframe thead th {\n",
       "        text-align: right;\n",
       "    }\n",
       "</style>\n",
       "<table border=\"1\" class=\"dataframe\">\n",
       "  <thead>\n",
       "    <tr style=\"text-align: right;\">\n",
       "      <th></th>\n",
       "      <th>Location</th>\n",
       "      <th>state_abbrev</th>\n",
       "    </tr>\n",
       "  </thead>\n",
       "  <tbody>\n",
       "    <tr>\n",
       "      <th>2</th>\n",
       "      <td>Saltville, va</td>\n",
       "      <td>VA</td>\n",
       "    </tr>\n",
       "    <tr>\n",
       "      <th>3</th>\n",
       "      <td>Eureka, ca</td>\n",
       "      <td>CA</td>\n",
       "    </tr>\n",
       "    <tr>\n",
       "      <th>4</th>\n",
       "      <td>Canton, oh</td>\n",
       "      <td>OH</td>\n",
       "    </tr>\n",
       "    <tr>\n",
       "      <th>5</th>\n",
       "      <td>Boston, ma</td>\n",
       "      <td>MA</td>\n",
       "    </tr>\n",
       "    <tr>\n",
       "      <th>6</th>\n",
       "      <td>Cotton, mn</td>\n",
       "      <td>MN</td>\n",
       "    </tr>\n",
       "  </tbody>\n",
       "</table>\n",
       "</div>"
      ],
      "text/plain": [
       "        Location state_abbrev\n",
       "2  Saltville, va           VA\n",
       "3     Eureka, ca           CA\n",
       "4     Canton, oh           OH\n",
       "5     Boston, ma           MA\n",
       "6     Cotton, mn           MN"
      ]
     },
     "execution_count": 124,
     "metadata": {},
     "output_type": "execute_result"
    }
   ],
   "source": [
    "#Extract the state abbreviation from 'Location' column\n",
    "us_df1[\"state_abbrev\"] = us_df1[\"Location\"].str.split(\", \").str[-1].str.upper()\n",
    "\n",
    "us_df1[[\"Location\", \"state_abbrev\"]].head()\n"
   ]
  },
  {
   "cell_type": "code",
   "execution_count": 125,
   "metadata": {},
   "outputs": [
    {
     "data": {
      "text/plain": [
       "array(['VA', 'CA', 'OH', 'MA', 'MN', 'WA', 'NJ', 'FL', 'NM', 'AL', 'LA',\n",
       "       'TX', 'OK', 'AR', 'UT', 'AK', 'PA', 'MI', 'GA', 'NC', 'NY', 'MT',\n",
       "       'OR', 'NV', 'IN', 'AZ', 'MO', 'WY', 'IL', 'SC', 'MD', 'HI', 'CO',\n",
       "       'WV', 'DC', 'ID', 'VT', 'MS', 'KS', 'NH', 'IA', 'WI', 'KY', 'CT',\n",
       "       'TN', 'ME', 'SD', 'NE', 'RI', 'ND', 'DE', nan, 'PR', 'GU', 'GM',\n",
       "       'AO', 'PO', 'UN', 'VI', 'PACIFIC OCEAN,', 'CHARLOTTE AMALI,',\n",
       "       'ATLANTIC OCEAN,', 'VERMILLION 229,', ',', 'HIGH ISLAND 138,',\n",
       "       'GULF OF MEXICO,', 'UNKNOWN,', 'CHRISTIANSTED,',\n",
       "       'HIGH ISLAND A-442A,', 'ST. CROIX,', 'TAMUNING,', 'ST. THOMAS,',\n",
       "       'CHARLOTTE AMALIE,', 'MAIN PASS 61A,', 'MOBILE BLOCK 114CC,',\n",
       "       'AGANA,', 'SOUTH PASS 93A,', 'SOUTHERN TIMBALIER 52CA,', 'OBYAN,',\n",
       "       'SHIP SHOAL 208H,', 'TINIAN ISLAND,', 'LA,', 'WEST DELTA 109,',\n",
       "       'INARAJAN,', 'EUGENE ISLAND 182A,', 'SOUTH TIMBALIER PLATFORM,',\n",
       "       'VIOSCA KNOLL 989,', 'WHITNEY,', 'SOUTH TIMBALIER 127,', 'SAIPAN,',\n",
       "       'OF', 'GUAYAQUIL,', 'MAJURO,', 'SANTA RITA,', 'CB'], dtype=object)"
      ]
     },
     "execution_count": 125,
     "metadata": {},
     "output_type": "execute_result"
    }
   ],
   "source": [
    "us_df1[\"state_abbrev\"].unique()"
   ]
  },
  {
   "cell_type": "code",
   "execution_count": 128,
   "metadata": {},
   "outputs": [
    {
     "name": "stdout",
     "output_type": "stream",
     "text": [
      "Remaining NaN values in state_abbrev after cleaning:\n",
      "93\n",
      "['VA' 'CA' 'OH' 'MA' 'MN' 'WA' 'NJ' 'FL' 'NM' 'AL' 'LA' 'TX' 'OK' 'AR'\n",
      " 'UT' 'AK' 'PA' 'MI' 'GA' 'NC' 'NY' 'MT' 'OR' 'NV' 'IN' 'AZ' 'MO' 'WY'\n",
      " 'IL' 'SC' 'MD' 'HI' 'CO' 'WV' 'DC' 'ID' 'VT' 'MS' 'KS' 'NH' 'IA' 'WI'\n",
      " 'KY' 'CT' 'TN' 'ME' 'SD' 'NE' 'RI' 'ND' 'DE' nan 'PR' 'GU' 'GM' 'AO' 'PO'\n",
      " 'VI']\n"
     ]
    }
   ],
   "source": [
    "# Defining valid states\n",
    "valid_states = set(states[\"Abbreviation\"].unique())\n",
    "\n",
    "# Stripping spaces and commas\n",
    "us_df1[\"state_abbrev\"] = us_df1[\"state_abbrev\"].str.strip(\", \").str.upper()\n",
    "\n",
    "# Replacing invalid values with nan\n",
    "us_df1.loc[~us_df1[\"state_abbrev\"].isin(valid_states), \"state_abbrev\"] = np.nan\n",
    "\n",
    "# Step 3: Check remaining NaN values\n",
    "print(\"Remaining NaN values in state_abbrev after cleaning:\")\n",
    "print(us_df1[\"state_abbrev\"].isna().sum())\n",
    "\n",
    "print(us_df1[\"state_abbrev\"].unique())"
   ]
  },
  {
   "cell_type": "code",
   "execution_count": 131,
   "metadata": {},
   "outputs": [
    {
     "name": "stdout",
     "output_type": "stream",
     "text": [
      "0\n"
     ]
    },
    {
     "data": {
      "application/vnd.microsoft.datawrangler.viewer.v0+json": {
       "columns": [
        {
         "name": "index",
         "rawType": "int64",
         "type": "integer"
        },
        {
         "name": "Investigation_Type",
         "rawType": "object",
         "type": "string"
        },
        {
         "name": "Location",
         "rawType": "object",
         "type": "string"
        },
        {
         "name": "Injury_Severity",
         "rawType": "object",
         "type": "string"
        },
        {
         "name": "Aircraft_damage",
         "rawType": "object",
         "type": "string"
        },
        {
         "name": "Aircraft_Category",
         "rawType": "object",
         "type": "unknown"
        },
        {
         "name": "Make",
         "rawType": "object",
         "type": "string"
        },
        {
         "name": "Model",
         "rawType": "object",
         "type": "string"
        },
        {
         "name": "Amateur_Built",
         "rawType": "object",
         "type": "string"
        },
        {
         "name": "Number_of_Engines",
         "rawType": "float64",
         "type": "float"
        },
        {
         "name": "Engine_Type",
         "rawType": "object",
         "type": "unknown"
        },
        {
         "name": "Total_Fatal_Injuries",
         "rawType": "float64",
         "type": "float"
        },
        {
         "name": "Total_Serious_Injuries",
         "rawType": "float64",
         "type": "float"
        },
        {
         "name": "Total_Minor_Injuries",
         "rawType": "float64",
         "type": "float"
        },
        {
         "name": "Total_Uninjured",
         "rawType": "float64",
         "type": "float"
        },
        {
         "name": "Weather_Condition",
         "rawType": "object",
         "type": "string"
        },
        {
         "name": "Year",
         "rawType": "int32",
         "type": "integer"
        },
        {
         "name": "state_abbrev",
         "rawType": "object",
         "type": "string"
        }
       ],
       "conversionMethod": "pd.DataFrame",
       "ref": "b3292a92-e5c9-44ea-a887-dc1cb6470dad",
       "rows": [
        [
         "2",
         "Accident",
         "Saltville, va",
         "Fatal",
         "Destroyed",
         null,
         "Cessna",
         "172m",
         "No",
         "1.0",
         "Reciprocating",
         "3.0",
         null,
         null,
         null,
         "Imc",
         "1974",
         "VA"
        ],
        [
         "3",
         "Accident",
         "Eureka, ca",
         "Fatal",
         "Destroyed",
         null,
         "Rockwell",
         "112",
         "No",
         "1.0",
         "Reciprocating",
         "2.0",
         "0.0",
         "0.0",
         "0.0",
         "Imc",
         "1977",
         "CA"
        ],
        [
         "4",
         "Accident",
         "Canton, oh",
         "Fatal",
         "Destroyed",
         null,
         "Cessna",
         "501",
         "No",
         null,
         null,
         "1.0",
         "2.0",
         null,
         "0.0",
         "Vmc",
         "1979",
         "OH"
        ],
        [
         "5",
         "Accident",
         "Boston, ma",
         "Non-fatal",
         "Substantial",
         "Airplane",
         "Mcdonnell douglas",
         "Dc9",
         "No",
         "2.0",
         "Turbo fan",
         null,
         null,
         "1.0",
         "44.0",
         "Vmc",
         "1979",
         "MA"
        ],
        [
         "6",
         "Accident",
         "Cotton, mn",
         "Fatal",
         "Destroyed",
         null,
         "Cessna",
         "180",
         "No",
         "1.0",
         "Reciprocating",
         "4.0",
         "0.0",
         "0.0",
         "0.0",
         "Imc",
         "1981",
         "MN"
        ]
       ],
       "shape": {
        "columns": 17,
        "rows": 5
       }
      },
      "text/html": [
       "<div>\n",
       "<style scoped>\n",
       "    .dataframe tbody tr th:only-of-type {\n",
       "        vertical-align: middle;\n",
       "    }\n",
       "\n",
       "    .dataframe tbody tr th {\n",
       "        vertical-align: top;\n",
       "    }\n",
       "\n",
       "    .dataframe thead th {\n",
       "        text-align: right;\n",
       "    }\n",
       "</style>\n",
       "<table border=\"1\" class=\"dataframe\">\n",
       "  <thead>\n",
       "    <tr style=\"text-align: right;\">\n",
       "      <th></th>\n",
       "      <th>Investigation_Type</th>\n",
       "      <th>Location</th>\n",
       "      <th>Injury_Severity</th>\n",
       "      <th>Aircraft_damage</th>\n",
       "      <th>Aircraft_Category</th>\n",
       "      <th>Make</th>\n",
       "      <th>Model</th>\n",
       "      <th>Amateur_Built</th>\n",
       "      <th>Number_of_Engines</th>\n",
       "      <th>Engine_Type</th>\n",
       "      <th>Total_Fatal_Injuries</th>\n",
       "      <th>Total_Serious_Injuries</th>\n",
       "      <th>Total_Minor_Injuries</th>\n",
       "      <th>Total_Uninjured</th>\n",
       "      <th>Weather_Condition</th>\n",
       "      <th>Year</th>\n",
       "      <th>state_abbrev</th>\n",
       "    </tr>\n",
       "  </thead>\n",
       "  <tbody>\n",
       "    <tr>\n",
       "      <th>2</th>\n",
       "      <td>Accident</td>\n",
       "      <td>Saltville, va</td>\n",
       "      <td>Fatal</td>\n",
       "      <td>Destroyed</td>\n",
       "      <td>NaN</td>\n",
       "      <td>Cessna</td>\n",
       "      <td>172m</td>\n",
       "      <td>No</td>\n",
       "      <td>1.0</td>\n",
       "      <td>Reciprocating</td>\n",
       "      <td>3.0</td>\n",
       "      <td>NaN</td>\n",
       "      <td>NaN</td>\n",
       "      <td>NaN</td>\n",
       "      <td>Imc</td>\n",
       "      <td>1974</td>\n",
       "      <td>VA</td>\n",
       "    </tr>\n",
       "    <tr>\n",
       "      <th>3</th>\n",
       "      <td>Accident</td>\n",
       "      <td>Eureka, ca</td>\n",
       "      <td>Fatal</td>\n",
       "      <td>Destroyed</td>\n",
       "      <td>NaN</td>\n",
       "      <td>Rockwell</td>\n",
       "      <td>112</td>\n",
       "      <td>No</td>\n",
       "      <td>1.0</td>\n",
       "      <td>Reciprocating</td>\n",
       "      <td>2.0</td>\n",
       "      <td>0.0</td>\n",
       "      <td>0.0</td>\n",
       "      <td>0.0</td>\n",
       "      <td>Imc</td>\n",
       "      <td>1977</td>\n",
       "      <td>CA</td>\n",
       "    </tr>\n",
       "    <tr>\n",
       "      <th>4</th>\n",
       "      <td>Accident</td>\n",
       "      <td>Canton, oh</td>\n",
       "      <td>Fatal</td>\n",
       "      <td>Destroyed</td>\n",
       "      <td>NaN</td>\n",
       "      <td>Cessna</td>\n",
       "      <td>501</td>\n",
       "      <td>No</td>\n",
       "      <td>NaN</td>\n",
       "      <td>NaN</td>\n",
       "      <td>1.0</td>\n",
       "      <td>2.0</td>\n",
       "      <td>NaN</td>\n",
       "      <td>0.0</td>\n",
       "      <td>Vmc</td>\n",
       "      <td>1979</td>\n",
       "      <td>OH</td>\n",
       "    </tr>\n",
       "    <tr>\n",
       "      <th>5</th>\n",
       "      <td>Accident</td>\n",
       "      <td>Boston, ma</td>\n",
       "      <td>Non-fatal</td>\n",
       "      <td>Substantial</td>\n",
       "      <td>Airplane</td>\n",
       "      <td>Mcdonnell douglas</td>\n",
       "      <td>Dc9</td>\n",
       "      <td>No</td>\n",
       "      <td>2.0</td>\n",
       "      <td>Turbo fan</td>\n",
       "      <td>NaN</td>\n",
       "      <td>NaN</td>\n",
       "      <td>1.0</td>\n",
       "      <td>44.0</td>\n",
       "      <td>Vmc</td>\n",
       "      <td>1979</td>\n",
       "      <td>MA</td>\n",
       "    </tr>\n",
       "    <tr>\n",
       "      <th>6</th>\n",
       "      <td>Accident</td>\n",
       "      <td>Cotton, mn</td>\n",
       "      <td>Fatal</td>\n",
       "      <td>Destroyed</td>\n",
       "      <td>NaN</td>\n",
       "      <td>Cessna</td>\n",
       "      <td>180</td>\n",
       "      <td>No</td>\n",
       "      <td>1.0</td>\n",
       "      <td>Reciprocating</td>\n",
       "      <td>4.0</td>\n",
       "      <td>0.0</td>\n",
       "      <td>0.0</td>\n",
       "      <td>0.0</td>\n",
       "      <td>Imc</td>\n",
       "      <td>1981</td>\n",
       "      <td>MN</td>\n",
       "    </tr>\n",
       "  </tbody>\n",
       "</table>\n",
       "</div>"
      ],
      "text/plain": [
       "  Investigation_Type       Location Injury_Severity Aircraft_damage  \\\n",
       "2           Accident  Saltville, va           Fatal       Destroyed   \n",
       "3           Accident     Eureka, ca           Fatal       Destroyed   \n",
       "4           Accident     Canton, oh           Fatal       Destroyed   \n",
       "5           Accident     Boston, ma       Non-fatal     Substantial   \n",
       "6           Accident     Cotton, mn           Fatal       Destroyed   \n",
       "\n",
       "  Aircraft_Category               Make Model Amateur_Built  Number_of_Engines  \\\n",
       "2               NaN             Cessna  172m            No                1.0   \n",
       "3               NaN           Rockwell   112            No                1.0   \n",
       "4               NaN             Cessna   501            No                NaN   \n",
       "5          Airplane  Mcdonnell douglas   Dc9            No                2.0   \n",
       "6               NaN             Cessna   180            No                1.0   \n",
       "\n",
       "     Engine_Type  Total_Fatal_Injuries  Total_Serious_Injuries  \\\n",
       "2  Reciprocating                   3.0                     NaN   \n",
       "3  Reciprocating                   2.0                     0.0   \n",
       "4            NaN                   1.0                     2.0   \n",
       "5      Turbo fan                   NaN                     NaN   \n",
       "6  Reciprocating                   4.0                     0.0   \n",
       "\n",
       "   Total_Minor_Injuries  Total_Uninjured Weather_Condition  Year state_abbrev  \n",
       "2                   NaN              NaN               Imc  1974           VA  \n",
       "3                   0.0              0.0               Imc  1977           CA  \n",
       "4                   NaN              0.0               Vmc  1979           OH  \n",
       "5                   1.0             44.0               Vmc  1979           MA  \n",
       "6                   0.0              0.0               Imc  1981           MN  "
      ]
     },
     "execution_count": 131,
     "metadata": {},
     "output_type": "execute_result"
    }
   ],
   "source": [
    "us_df1 = us_df1.dropna(subset=[\"state_abbrev\"])\n",
    "\n",
    "print(us_df1[\"state_abbrev\"].isna().sum())\n",
    "us_df1.head()"
   ]
  },
  {
   "cell_type": "code",
   "execution_count": 132,
   "metadata": {},
   "outputs": [
    {
     "name": "stdout",
     "output_type": "stream",
     "text": [
      "  Investigation_Type       Location Injury_Severity Aircraft_damage  \\\n",
      "0           Accident  Saltville, va           Fatal       Destroyed   \n",
      "1           Accident     Eureka, ca           Fatal       Destroyed   \n",
      "2           Accident     Canton, oh           Fatal       Destroyed   \n",
      "3           Accident     Boston, ma       Non-fatal     Substantial   \n",
      "4           Accident     Cotton, mn           Fatal       Destroyed   \n",
      "\n",
      "  Aircraft_Category               Make Model Amateur_Built  Number_of_Engines  \\\n",
      "0               NaN             Cessna  172m            No                1.0   \n",
      "1               NaN           Rockwell   112            No                1.0   \n",
      "2               NaN             Cessna   501            No                NaN   \n",
      "3          Airplane  Mcdonnell douglas   Dc9            No                2.0   \n",
      "4               NaN             Cessna   180            No                1.0   \n",
      "\n",
      "     Engine_Type  Total_Fatal_Injuries  Total_Serious_Injuries  \\\n",
      "0  Reciprocating                   3.0                     NaN   \n",
      "1  Reciprocating                   2.0                     0.0   \n",
      "2            NaN                   1.0                     2.0   \n",
      "3      Turbo fan                   NaN                     NaN   \n",
      "4  Reciprocating                   4.0                     0.0   \n",
      "\n",
      "   Total_Minor_Injuries  Total_Uninjured Weather_Condition  Year state_abbrev  \\\n",
      "0                   NaN              NaN               Imc  1974           VA   \n",
      "1                   0.0              0.0               Imc  1977           CA   \n",
      "2                   NaN              0.0               Vmc  1979           OH   \n",
      "3                   1.0             44.0               Vmc  1979           MA   \n",
      "4                   0.0              0.0               Imc  1981           MN   \n",
      "\n",
      "        US_State Abbreviation  \n",
      "0       Virginia           VA  \n",
      "1     California           CA  \n",
      "2           Ohio           OH  \n",
      "3  Massachusetts           MA  \n",
      "4      Minnesota           MN  \n",
      "--------------------------------------------------\n",
      "Checking for Missing in the new columns\n",
      "0\n"
     ]
    }
   ],
   "source": [
    "# Merging dataframes\n",
    "us_df1 = us_df1.merge(states, left_on=\"state_abbrev\", right_on=\"Abbreviation\", \n",
    "                      how=\"left\", suffixes=(\"\", \"_state\"))\n",
    "\n",
    "print(us_df1.head())\n",
    "print(50*\"-\")\n",
    "print(\"Checking for Missing in the new columns\")\n",
    "print(us_df1[\"US_State\"].isna().sum())\n",
    "\n",
    "\n"
   ]
  },
  {
   "cell_type": "code",
   "execution_count": 133,
   "metadata": {},
   "outputs": [
    {
     "data": {
      "application/vnd.microsoft.datawrangler.viewer.v0+json": {
       "columns": [
        {
         "name": "index",
         "rawType": "int64",
         "type": "integer"
        },
        {
         "name": "Investigation_Type",
         "rawType": "object",
         "type": "string"
        },
        {
         "name": "Injury_Severity",
         "rawType": "object",
         "type": "string"
        },
        {
         "name": "Aircraft_damage",
         "rawType": "object",
         "type": "string"
        },
        {
         "name": "Aircraft_Category",
         "rawType": "object",
         "type": "unknown"
        },
        {
         "name": "Make",
         "rawType": "object",
         "type": "string"
        },
        {
         "name": "Model",
         "rawType": "object",
         "type": "string"
        },
        {
         "name": "Amateur_Built",
         "rawType": "object",
         "type": "string"
        },
        {
         "name": "Number_of_Engines",
         "rawType": "float64",
         "type": "float"
        },
        {
         "name": "Engine_Type",
         "rawType": "object",
         "type": "unknown"
        },
        {
         "name": "Total_Fatal_Injuries",
         "rawType": "float64",
         "type": "float"
        },
        {
         "name": "Total_Serious_Injuries",
         "rawType": "float64",
         "type": "float"
        },
        {
         "name": "Total_Minor_Injuries",
         "rawType": "float64",
         "type": "float"
        },
        {
         "name": "Total_Uninjured",
         "rawType": "float64",
         "type": "float"
        },
        {
         "name": "Weather_Condition",
         "rawType": "object",
         "type": "string"
        },
        {
         "name": "Year",
         "rawType": "int32",
         "type": "integer"
        },
        {
         "name": "US_State",
         "rawType": "object",
         "type": "string"
        }
       ],
       "conversionMethod": "pd.DataFrame",
       "ref": "be22efb1-d9de-41de-9827-315ccbb410dd",
       "rows": [
        [
         "0",
         "Accident",
         "Fatal",
         "Destroyed",
         null,
         "Cessna",
         "172m",
         "No",
         "1.0",
         "Reciprocating",
         "3.0",
         null,
         null,
         null,
         "Imc",
         "1974",
         "Virginia"
        ],
        [
         "1",
         "Accident",
         "Fatal",
         "Destroyed",
         null,
         "Rockwell",
         "112",
         "No",
         "1.0",
         "Reciprocating",
         "2.0",
         "0.0",
         "0.0",
         "0.0",
         "Imc",
         "1977",
         "California"
        ],
        [
         "2",
         "Accident",
         "Fatal",
         "Destroyed",
         null,
         "Cessna",
         "501",
         "No",
         null,
         null,
         "1.0",
         "2.0",
         null,
         "0.0",
         "Vmc",
         "1979",
         "Ohio"
        ],
        [
         "3",
         "Accident",
         "Non-fatal",
         "Substantial",
         "Airplane",
         "Mcdonnell douglas",
         "Dc9",
         "No",
         "2.0",
         "Turbo fan",
         null,
         null,
         "1.0",
         "44.0",
         "Vmc",
         "1979",
         "Massachusetts"
        ],
        [
         "4",
         "Accident",
         "Fatal",
         "Destroyed",
         null,
         "Cessna",
         "180",
         "No",
         "1.0",
         "Reciprocating",
         "4.0",
         "0.0",
         "0.0",
         "0.0",
         "Imc",
         "1981",
         "Minnesota"
        ]
       ],
       "shape": {
        "columns": 16,
        "rows": 5
       }
      },
      "text/html": [
       "<div>\n",
       "<style scoped>\n",
       "    .dataframe tbody tr th:only-of-type {\n",
       "        vertical-align: middle;\n",
       "    }\n",
       "\n",
       "    .dataframe tbody tr th {\n",
       "        vertical-align: top;\n",
       "    }\n",
       "\n",
       "    .dataframe thead th {\n",
       "        text-align: right;\n",
       "    }\n",
       "</style>\n",
       "<table border=\"1\" class=\"dataframe\">\n",
       "  <thead>\n",
       "    <tr style=\"text-align: right;\">\n",
       "      <th></th>\n",
       "      <th>Investigation_Type</th>\n",
       "      <th>Injury_Severity</th>\n",
       "      <th>Aircraft_damage</th>\n",
       "      <th>Aircraft_Category</th>\n",
       "      <th>Make</th>\n",
       "      <th>Model</th>\n",
       "      <th>Amateur_Built</th>\n",
       "      <th>Number_of_Engines</th>\n",
       "      <th>Engine_Type</th>\n",
       "      <th>Total_Fatal_Injuries</th>\n",
       "      <th>Total_Serious_Injuries</th>\n",
       "      <th>Total_Minor_Injuries</th>\n",
       "      <th>Total_Uninjured</th>\n",
       "      <th>Weather_Condition</th>\n",
       "      <th>Year</th>\n",
       "      <th>US_State</th>\n",
       "    </tr>\n",
       "  </thead>\n",
       "  <tbody>\n",
       "    <tr>\n",
       "      <th>0</th>\n",
       "      <td>Accident</td>\n",
       "      <td>Fatal</td>\n",
       "      <td>Destroyed</td>\n",
       "      <td>NaN</td>\n",
       "      <td>Cessna</td>\n",
       "      <td>172m</td>\n",
       "      <td>No</td>\n",
       "      <td>1.0</td>\n",
       "      <td>Reciprocating</td>\n",
       "      <td>3.0</td>\n",
       "      <td>NaN</td>\n",
       "      <td>NaN</td>\n",
       "      <td>NaN</td>\n",
       "      <td>Imc</td>\n",
       "      <td>1974</td>\n",
       "      <td>Virginia</td>\n",
       "    </tr>\n",
       "    <tr>\n",
       "      <th>1</th>\n",
       "      <td>Accident</td>\n",
       "      <td>Fatal</td>\n",
       "      <td>Destroyed</td>\n",
       "      <td>NaN</td>\n",
       "      <td>Rockwell</td>\n",
       "      <td>112</td>\n",
       "      <td>No</td>\n",
       "      <td>1.0</td>\n",
       "      <td>Reciprocating</td>\n",
       "      <td>2.0</td>\n",
       "      <td>0.0</td>\n",
       "      <td>0.0</td>\n",
       "      <td>0.0</td>\n",
       "      <td>Imc</td>\n",
       "      <td>1977</td>\n",
       "      <td>California</td>\n",
       "    </tr>\n",
       "    <tr>\n",
       "      <th>2</th>\n",
       "      <td>Accident</td>\n",
       "      <td>Fatal</td>\n",
       "      <td>Destroyed</td>\n",
       "      <td>NaN</td>\n",
       "      <td>Cessna</td>\n",
       "      <td>501</td>\n",
       "      <td>No</td>\n",
       "      <td>NaN</td>\n",
       "      <td>NaN</td>\n",
       "      <td>1.0</td>\n",
       "      <td>2.0</td>\n",
       "      <td>NaN</td>\n",
       "      <td>0.0</td>\n",
       "      <td>Vmc</td>\n",
       "      <td>1979</td>\n",
       "      <td>Ohio</td>\n",
       "    </tr>\n",
       "    <tr>\n",
       "      <th>3</th>\n",
       "      <td>Accident</td>\n",
       "      <td>Non-fatal</td>\n",
       "      <td>Substantial</td>\n",
       "      <td>Airplane</td>\n",
       "      <td>Mcdonnell douglas</td>\n",
       "      <td>Dc9</td>\n",
       "      <td>No</td>\n",
       "      <td>2.0</td>\n",
       "      <td>Turbo fan</td>\n",
       "      <td>NaN</td>\n",
       "      <td>NaN</td>\n",
       "      <td>1.0</td>\n",
       "      <td>44.0</td>\n",
       "      <td>Vmc</td>\n",
       "      <td>1979</td>\n",
       "      <td>Massachusetts</td>\n",
       "    </tr>\n",
       "    <tr>\n",
       "      <th>4</th>\n",
       "      <td>Accident</td>\n",
       "      <td>Fatal</td>\n",
       "      <td>Destroyed</td>\n",
       "      <td>NaN</td>\n",
       "      <td>Cessna</td>\n",
       "      <td>180</td>\n",
       "      <td>No</td>\n",
       "      <td>1.0</td>\n",
       "      <td>Reciprocating</td>\n",
       "      <td>4.0</td>\n",
       "      <td>0.0</td>\n",
       "      <td>0.0</td>\n",
       "      <td>0.0</td>\n",
       "      <td>Imc</td>\n",
       "      <td>1981</td>\n",
       "      <td>Minnesota</td>\n",
       "    </tr>\n",
       "  </tbody>\n",
       "</table>\n",
       "</div>"
      ],
      "text/plain": [
       "  Investigation_Type Injury_Severity Aircraft_damage Aircraft_Category  \\\n",
       "0           Accident           Fatal       Destroyed               NaN   \n",
       "1           Accident           Fatal       Destroyed               NaN   \n",
       "2           Accident           Fatal       Destroyed               NaN   \n",
       "3           Accident       Non-fatal     Substantial          Airplane   \n",
       "4           Accident           Fatal       Destroyed               NaN   \n",
       "\n",
       "                Make Model Amateur_Built  Number_of_Engines    Engine_Type  \\\n",
       "0             Cessna  172m            No                1.0  Reciprocating   \n",
       "1           Rockwell   112            No                1.0  Reciprocating   \n",
       "2             Cessna   501            No                NaN            NaN   \n",
       "3  Mcdonnell douglas   Dc9            No                2.0      Turbo fan   \n",
       "4             Cessna   180            No                1.0  Reciprocating   \n",
       "\n",
       "   Total_Fatal_Injuries  Total_Serious_Injuries  Total_Minor_Injuries  \\\n",
       "0                   3.0                     NaN                   NaN   \n",
       "1                   2.0                     0.0                   0.0   \n",
       "2                   1.0                     2.0                   NaN   \n",
       "3                   NaN                     NaN                   1.0   \n",
       "4                   4.0                     0.0                   0.0   \n",
       "\n",
       "   Total_Uninjured Weather_Condition  Year       US_State  \n",
       "0              NaN               Imc  1974       Virginia  \n",
       "1              0.0               Imc  1977     California  \n",
       "2              0.0               Vmc  1979           Ohio  \n",
       "3             44.0               Vmc  1979  Massachusetts  \n",
       "4              0.0               Imc  1981      Minnesota  "
      ]
     },
     "execution_count": 133,
     "metadata": {},
     "output_type": "execute_result"
    }
   ],
   "source": [
    "us_df1.drop(columns=[\"state_abbrev\", \"Abbreviation\",\"Location\"],inplace=True)\n",
    "us_df1.head()"
   ]
  },
  {
   "cell_type": "code",
   "execution_count": 134,
   "metadata": {},
   "outputs": [
    {
     "data": {
      "text/plain": [
       "array(['Accident', 'Incident'], dtype=object)"
      ]
     },
     "execution_count": 134,
     "metadata": {},
     "output_type": "execute_result"
    }
   ],
   "source": [
    "us_df1[\"Investigation_Type\"].unique()"
   ]
  },
  {
   "cell_type": "code",
   "execution_count": 135,
   "metadata": {},
   "outputs": [
    {
     "data": {
      "text/plain": [
       "array(['Accident', 'Incident'], dtype=object)"
      ]
     },
     "execution_count": 135,
     "metadata": {},
     "output_type": "execute_result"
    }
   ],
   "source": [
    "# Dropping rows that aren't Accident or Incident\n",
    "us_df1 = us_df1[us_df1[\"Investigation_Type\"].isin([\"Accident\", \"Incident\"])]\n",
    "us_df1[\"Investigation_Type\"].unique()\n"
   ]
  },
  {
   "cell_type": "code",
   "execution_count": 136,
   "metadata": {},
   "outputs": [
    {
     "data": {
      "text/plain": [
       "80035"
      ]
     },
     "execution_count": 136,
     "metadata": {},
     "output_type": "execute_result"
    }
   ],
   "source": [
    "len(us_df1)"
   ]
  },
  {
   "cell_type": "code",
   "execution_count": 137,
   "metadata": {},
   "outputs": [
    {
     "data": {
      "text/plain": [
       "array(['Fatal', 'Non-fatal', 'Incident', 'Unavailable', nan, 'Minor',\n",
       "       'Serious'], dtype=object)"
      ]
     },
     "execution_count": 137,
     "metadata": {},
     "output_type": "execute_result"
    }
   ],
   "source": [
    "us_df1[\"Injury_Severity\"].unique()"
   ]
  },
  {
   "cell_type": "code",
   "execution_count": 138,
   "metadata": {},
   "outputs": [
    {
     "data": {
      "text/plain": [
       "np.int64(89)"
      ]
     },
     "execution_count": 138,
     "metadata": {},
     "output_type": "execute_result"
    }
   ],
   "source": [
    "us_df1[\"Injury_Severity\"].isna().sum()"
   ]
  },
  {
   "cell_type": "code",
   "execution_count": 139,
   "metadata": {},
   "outputs": [
    {
     "data": {
      "text/plain": [
       "np.int64(0)"
      ]
     },
     "execution_count": 139,
     "metadata": {},
     "output_type": "execute_result"
    }
   ],
   "source": [
    "us_df1.dropna(subset=[\"Injury_Severity\"], inplace=True)\n",
    "us_df1[\"Injury_Severity\"].isna().sum()"
   ]
  },
  {
   "cell_type": "code",
   "execution_count": 140,
   "metadata": {},
   "outputs": [],
   "source": [
    "us_df1.drop(us_df1[us_df1[\"Injury_Severity\"] == \"Unavailable\"].index, inplace=True)"
   ]
  },
  {
   "cell_type": "code",
   "execution_count": 141,
   "metadata": {},
   "outputs": [],
   "source": [
    "# # Clean the Injury_Severity column by removing numbers\n",
    "# us_df1[\"Injury_Severity\"] = us_df1[\"Injury_Severity\"].str.replace(r\"\\(\\d+\\)\", \"\", regex=True)\n",
    "\n",
    "# us_df1.head()\n",
    "# print(us_df1[\"Injury_Severity\"].value_counts())\n"
   ]
  },
  {
   "cell_type": "code",
   "execution_count": 142,
   "metadata": {},
   "outputs": [
    {
     "data": {
      "text/plain": [
       "79943"
      ]
     },
     "execution_count": 142,
     "metadata": {},
     "output_type": "execute_result"
    }
   ],
   "source": [
    "len(us_df1)"
   ]
  },
  {
   "cell_type": "code",
   "execution_count": 143,
   "metadata": {},
   "outputs": [
    {
     "data": {
      "text/plain": [
       "Aircraft_Category\n",
       "Airplane             23874\n",
       "Helicopter            2684\n",
       "Glider                 449\n",
       "Balloon                194\n",
       "Gyrocraft              172\n",
       "Weight-shift           159\n",
       "Powered parachute       90\n",
       "Ultralight              25\n",
       "Wsft                     9\n",
       "Blimp                    4\n",
       "Powered-lift             3\n",
       "Rocket                   1\n",
       "Ultr                     1\n",
       "Name: count, dtype: int64"
      ]
     },
     "execution_count": 143,
     "metadata": {},
     "output_type": "execute_result"
    }
   ],
   "source": [
    "us_df1[\"Aircraft_Category\"].value_counts()"
   ]
  },
  {
   "cell_type": "code",
   "execution_count": 144,
   "metadata": {},
   "outputs": [
    {
     "data": {
      "text/plain": [
       "np.int64(52278)"
      ]
     },
     "execution_count": 144,
     "metadata": {},
     "output_type": "execute_result"
    }
   ],
   "source": [
    "us_df1[\"Aircraft_Category\"].isna().sum()"
   ]
  },
  {
   "cell_type": "code",
   "execution_count": 145,
   "metadata": {},
   "outputs": [
    {
     "name": "stdout",
     "output_type": "stream",
     "text": [
      "Unique Makes:\n",
      "7277\n",
      "--------------------\n",
      "Count of Na:\n",
      "14\n"
     ]
    }
   ],
   "source": [
    "print(\"Unique Makes:\")\n",
    "print(us_df1[\"Make\"].nunique())\n",
    "print(20*\"-\")\n",
    "print(\"Count of Na:\")\n",
    "print(us_df1[\"Make\"].isna().sum())"
   ]
  },
  {
   "cell_type": "code",
   "execution_count": 146,
   "metadata": {},
   "outputs": [
    {
     "data": {
      "text/plain": [
       "np.int64(0)"
      ]
     },
     "execution_count": 146,
     "metadata": {},
     "output_type": "execute_result"
    }
   ],
   "source": [
    "us_df1.dropna(subset=[\"Make\"], inplace=True)\n",
    "us_df1[\"Make\"].isna().sum()"
   ]
  },
  {
   "cell_type": "code",
   "execution_count": 147,
   "metadata": {},
   "outputs": [
    {
     "name": "stdout",
     "output_type": "stream",
     "text": [
      "                        Missing Values  Percentage  Unique Values\n",
      "Aircraft_Category                52271       65.40             13\n",
      "Total_Serious_Injuries           11329       14.17             32\n",
      "Total_Minor_Injuries             10680       13.36             45\n",
      "Total_Fatal_Injuries             10613       13.28             51\n",
      "Total_Uninjured                   4968        6.22            348\n",
      "Engine_Type                       2888        3.61              9\n",
      "Aircraft_damage                   1668        2.09              3\n",
      "Number_of_Engines                 1053        1.32              7\n",
      "Weather_Condition                  570        0.71              2\n",
      "Model                               29        0.04          10346\n",
      "Amateur_Built                       19        0.02              2\n",
      "Injury_Severity                      0        0.00              5\n",
      "Make                                 0        0.00           7277\n",
      "Investigation_Type                   0        0.00              2\n",
      "Year                                 0        0.00             45\n",
      "US_State                             0        0.00             57\n"
     ]
    }
   ],
   "source": [
    "def check_missing_values(df):\n",
    "    missing_counts = {}\n",
    "\n",
    "    for col in df.columns:\n",
    "        missing_count = df[col].isna().sum()  \n",
    "        missing_percentage = (missing_count / len(df)) * 100\n",
    "        unique_count = df[col].nunique()\n",
    "\n",
    "        missing_counts[col] = {\n",
    "            'Missing Values': missing_count,\n",
    "            'Percentage': round(missing_percentage, 2),\n",
    "            'Unique Values': unique_count\n",
    "        }\n",
    "\n",
    "    return pd.DataFrame.from_dict(missing_counts, orient='index').sort_values(by=\"Missing Values\", \n",
    "                                                                              ascending=False)\n",
    "\n",
    "# Get sorted missing values summary\n",
    "missing_summary = check_missing_values(us_df1)\n",
    "\n",
    "# Display results\n",
    "print(missing_summary)"
   ]
  },
  {
   "cell_type": "code",
   "execution_count": 148,
   "metadata": {},
   "outputs": [
    {
     "name": "stdout",
     "output_type": "stream",
     "text": [
      "                        Missing Values  Percentage  Unique Values\n",
      "Aircraft_Category                51069       65.69             13\n",
      "Engine_Type                       2276        2.93              9\n",
      "Number_of_Engines                  840        1.08              6\n",
      "Injury_Severity                      0        0.00              5\n",
      "Aircraft_damage                      0        0.00              3\n",
      "Make                                 0        0.00           7175\n",
      "Model                                0        0.00           9995\n",
      "Investigation_Type                   0        0.00              2\n",
      "Amateur_Built                        0        0.00              2\n",
      "Total_Fatal_Injuries                 0        0.00             47\n",
      "Total_Serious_Injuries               0        0.00             30\n",
      "Total_Minor_Injuries                 0        0.00             44\n",
      "Total_Uninjured                      0        0.00            291\n",
      "Weather_Condition                    0        0.00              2\n",
      "Year                                 0        0.00             45\n",
      "US_State                             0        0.00             57\n"
     ]
    }
   ],
   "source": [
    "# Copy of df\n",
    "us_df2 = us_df1.copy()\n",
    "\n",
    "# Fill in some missing columns with 0\n",
    "cols_to_fill = [\"Total_Serious_Injuries\", \"Total_Minor_Injuries\", \"Total_Fatal_Injuries\",\n",
    "       \"Total_Uninjured\"]\n",
    "us_df2[cols_to_fill] = us_df2[cols_to_fill].fillna(0)\n",
    "\n",
    "# Drop columns with too many missing values\n",
    "us_df2.dropna(subset=[\"Aircraft_damage\", \"Weather_Condition\", \"Amateur_Built\",\n",
    "                      \"Model\"], inplace=True)\n",
    "\n",
    "\n",
    "\n",
    "missing_summary = check_missing_values(us_df2)\n",
    "print(missing_summary)"
   ]
  },
  {
   "cell_type": "markdown",
   "metadata": {},
   "source": [
    "We chose to drop these missing values as there wouldn't be a reasonable way to impute the missing data. The remaining missing values we left them as we aim to impute the missing values using the mode. We chose to use the mode as the aircraft_category, engine_type and number_of_engines can be determined by their make and model. This will ensure data accuracy and reduce bias.\n",
    "\n",
    "We also chose to fill in the `cols_to_fill` with 0 because missing values in injury-related columns likely indicate that no injuries were recorded for that incident. Given that aircraft accident reports are thoroughly documented, it is reasonable to assume that an absence of reported injuries means there were none rather than an unknown value."
   ]
  },
  {
   "cell_type": "code",
   "execution_count": 149,
   "metadata": {},
   "outputs": [],
   "source": [
    "# us_df2['Number_of_Engines'] = us_df2.groupby(['Make', 'Model'])['Number_of_Engines'].transform(lambda x: x.fillna(x.mode()[0] \n",
    "#                                                                                                                   if not x.mode().empty else x.median()))\n",
    "# us_df2['Aircraft_Category'] = us_df2.groupby(['Make', 'Model'])['Aircraft_Category'].transform(lambda x: x.fillna(x.mode()[0] \n",
    "#                                                                                                           if not x.mode().empty else 'Unknown'))\n",
    "# us_df2['Engine_Type'] = us_df2.groupby(['Make', 'Model'])['Aircraft_Category'].transform(lambda x: x.fillna(x.mode()[0] \n",
    "#                                                                                                           if not x.mode().empty else 'Unknown'))\n",
    "# missing_summary = check_missing_values(us_df2)\n",
    "# print(missing_summary);"
   ]
  },
  {
   "cell_type": "code",
   "execution_count": 150,
   "metadata": {},
   "outputs": [],
   "source": [
    "def group_imputation(df:pd.DataFrame, group_cols:list, target_col:list):\n",
    "    \"\"\"\n",
    "    THis function imputes missing values in the target columns using the mode from group_cols.\n",
    "    If there is no mode it will fall back to median (for numerical) or 'Unknown' (for categorical).\n",
    "\n",
    "    Args:\n",
    "        df (pd.DataFrame): dataframe\n",
    "        group_cols (list): Columns to group by e.g. Make and Model\n",
    "        target_col (list): Columns we want to impute e.g. Number of engines \n",
    "    \"\"\"\n",
    "\n",
    "    def impute(x):\n",
    "        mode_val = x.mode()\n",
    "        if not mode_val.empty:\n",
    "            return x.fillna(mode_val[0]) # Fill with mode\n",
    "        elif pd.api.types.is_numeric_dtype(x) and not x.dropna().empty:\n",
    "            return x.fillna(x.median()) # Use median if data exists\n",
    "        return x.dropna() # Drop NaN values if no mode or median is found \n",
    "            \n",
    "    for col in target_col:\n",
    "        df[col] = df.groupby(group_cols)[col].transform(impute)\n",
    "\n",
    "    return df"
   ]
  },
  {
   "cell_type": "code",
   "execution_count": 151,
   "metadata": {},
   "outputs": [
    {
     "name": "stdout",
     "output_type": "stream",
     "text": [
      "                        Missing Values  Percentage  Unique Values\n",
      "Aircraft_Category                10397       13.37             13\n",
      "Engine_Type                        993        1.28              9\n",
      "Number_of_Engines                  291        0.37              6\n",
      "Injury_Severity                      0        0.00              5\n",
      "Aircraft_damage                      0        0.00              3\n",
      "Make                                 0        0.00           7175\n",
      "Model                                0        0.00           9995\n",
      "Investigation_Type                   0        0.00              2\n",
      "Amateur_Built                        0        0.00              2\n",
      "Total_Fatal_Injuries                 0        0.00             47\n",
      "Total_Serious_Injuries               0        0.00             30\n",
      "Total_Minor_Injuries                 0        0.00             44\n",
      "Total_Uninjured                      0        0.00            291\n",
      "Weather_Condition                    0        0.00              2\n",
      "Year                                 0        0.00             45\n",
      "US_State                             0        0.00             57\n"
     ]
    }
   ],
   "source": [
    "us_df2 = group_imputation(us_df2, [\"Make\", \"Model\"], [\"Number_of_Engines\", \n",
    "                                                      \"Aircraft_Category\", \"Engine_Type\"])\n",
    "\n",
    "missing_summary = check_missing_values(us_df2)\n",
    "print(missing_summary)"
   ]
  },
  {
   "cell_type": "markdown",
   "metadata": {},
   "source": [
    "From the above function we can see that the most of the data has been imputed either through the mode of the make and model of the aircraft and if that isn't available with the median. The remaining values showcase the data that couldn't be meaningfully imputed by either functions and we would opt to drop them rather than impute them with incorrect information which would introduce bias."
   ]
  },
  {
   "cell_type": "code",
   "execution_count": 152,
   "metadata": {},
   "outputs": [
    {
     "name": "stdout",
     "output_type": "stream",
     "text": [
      "                        Missing Values  Percentage  Unique Values\n",
      "Investigation_Type                   0         0.0              2\n",
      "Injury_Severity                      0         0.0              5\n",
      "Aircraft_damage                      0         0.0              3\n",
      "Aircraft_Category                    0         0.0             12\n",
      "Make                                 0         0.0           3547\n",
      "Model                                0         0.0           4814\n",
      "Amateur_Built                        0         0.0              2\n",
      "Number_of_Engines                    0         0.0              6\n",
      "Engine_Type                          0         0.0              9\n",
      "Total_Fatal_Injuries                 0         0.0             31\n",
      "Total_Serious_Injuries               0         0.0             26\n",
      "Total_Minor_Injuries                 0         0.0             31\n",
      "Total_Uninjured                      0         0.0            229\n",
      "Weather_Condition                    0         0.0              2\n",
      "Year                                 0         0.0             45\n",
      "US_State                             0         0.0             57\n"
     ]
    }
   ],
   "source": [
    "# Dropping remaining missing values\n",
    "us_df2.dropna(inplace=True)\n",
    "missing_summary = check_missing_values(us_df2)\n",
    "print(missing_summary)"
   ]
  },
  {
   "cell_type": "markdown",
   "metadata": {},
   "source": [
    "## 3. Data Analysis\n",
    "\n",
    "This next step will be broken down in 2 main ways:\n",
    "1. Univariate analyis\n",
    "2. Bivariate analysis "
   ]
  },
  {
   "cell_type": "code",
   "execution_count": 153,
   "metadata": {},
   "outputs": [
    {
     "name": "stdout",
     "output_type": "stream",
     "text": [
      "Shape of the dataframe:\n",
      "(66306, 16)\n",
      "--------------------------------------------------\n",
      "  Investigation_Type Injury_Severity Aircraft_damage Aircraft_Category  \\\n",
      "0           Accident           Fatal       Destroyed          Airplane   \n",
      "1           Accident           Fatal       Destroyed          Airplane   \n",
      "2           Accident           Fatal       Destroyed          Airplane   \n",
      "3           Accident       Non-fatal     Substantial          Airplane   \n",
      "4           Accident           Fatal       Destroyed          Airplane   \n",
      "\n",
      "                Make Model Amateur_Built  Number_of_Engines    Engine_Type  \\\n",
      "0             Cessna  172m            No                1.0  Reciprocating   \n",
      "1           Rockwell   112            No                1.0  Reciprocating   \n",
      "2             Cessna   501            No                2.0      Turbo fan   \n",
      "3  Mcdonnell douglas   Dc9            No                2.0      Turbo fan   \n",
      "4             Cessna   180            No                1.0  Reciprocating   \n",
      "\n",
      "   Total_Fatal_Injuries  Total_Serious_Injuries  Total_Minor_Injuries  \\\n",
      "0                   3.0                     0.0                   0.0   \n",
      "1                   2.0                     0.0                   0.0   \n",
      "2                   1.0                     2.0                   0.0   \n",
      "3                   0.0                     0.0                   1.0   \n",
      "4                   4.0                     0.0                   0.0   \n",
      "\n",
      "   Total_Uninjured Weather_Condition  Year       US_State  \n",
      "0              0.0               Imc  1974       Virginia  \n",
      "1              0.0               Imc  1977     California  \n",
      "2              0.0               Vmc  1979           Ohio  \n",
      "3             44.0               Vmc  1979  Massachusetts  \n",
      "4              0.0               Imc  1981      Minnesota  \n",
      "--------------------------------------------------\n",
      "<class 'pandas.core.frame.DataFrame'>\n",
      "Index: 66306 entries, 0 to 80032\n",
      "Data columns (total 16 columns):\n",
      " #   Column                  Non-Null Count  Dtype  \n",
      "---  ------                  --------------  -----  \n",
      " 0   Investigation_Type      66306 non-null  object \n",
      " 1   Injury_Severity         66306 non-null  object \n",
      " 2   Aircraft_damage         66306 non-null  object \n",
      " 3   Aircraft_Category       66306 non-null  object \n",
      " 4   Make                    66306 non-null  object \n",
      " 5   Model                   66306 non-null  object \n",
      " 6   Amateur_Built           66306 non-null  object \n",
      " 7   Number_of_Engines       66306 non-null  float64\n",
      " 8   Engine_Type             66306 non-null  object \n",
      " 9   Total_Fatal_Injuries    66306 non-null  float64\n",
      " 10  Total_Serious_Injuries  66306 non-null  float64\n",
      " 11  Total_Minor_Injuries    66306 non-null  float64\n",
      " 12  Total_Uninjured         66306 non-null  float64\n",
      " 13  Weather_Condition       66306 non-null  object \n",
      " 14  Year                    66306 non-null  int32  \n",
      " 15  US_State                66306 non-null  object \n",
      "dtypes: float64(5), int32(1), object(10)\n",
      "memory usage: 8.3+ MB\n",
      "None\n",
      "--------------------------------------------------\n",
      "       Investigation_Type Injury_Severity Aircraft_damage Aircraft_Category  \\\n",
      "count               66306           66306           66306             66306   \n",
      "unique                  2               5               3                12   \n",
      "top              Accident       Non-fatal     Substantial          Airplane   \n",
      "freq                65392           53940           52470             59939   \n",
      "mean                  NaN             NaN             NaN               NaN   \n",
      "std                   NaN             NaN             NaN               NaN   \n",
      "min                   NaN             NaN             NaN               NaN   \n",
      "25%                   NaN             NaN             NaN               NaN   \n",
      "50%                   NaN             NaN             NaN               NaN   \n",
      "75%                   NaN             NaN             NaN               NaN   \n",
      "max                   NaN             NaN             NaN               NaN   \n",
      "\n",
      "          Make  Model Amateur_Built  Number_of_Engines    Engine_Type  \\\n",
      "count    66306  66306         66306       66306.000000          66306   \n",
      "unique    3547   4814             2                NaN              9   \n",
      "top     Cessna    152            No                NaN  Reciprocating   \n",
      "freq     24694   2294         62844                NaN          60147   \n",
      "mean       NaN    NaN           NaN           1.115555            NaN   \n",
      "std        NaN    NaN           NaN           0.335799            NaN   \n",
      "min        NaN    NaN           NaN           0.000000            NaN   \n",
      "25%        NaN    NaN           NaN           1.000000            NaN   \n",
      "50%        NaN    NaN           NaN           1.000000            NaN   \n",
      "75%        NaN    NaN           NaN           1.000000            NaN   \n",
      "max        NaN    NaN           NaN           8.000000            NaN   \n",
      "\n",
      "        Total_Fatal_Injuries  Total_Serious_Injuries  Total_Minor_Injuries  \\\n",
      "count           66306.000000            66306.000000          66306.000000   \n",
      "unique                   NaN                     NaN                   NaN   \n",
      "top                      NaN                     NaN                   NaN   \n",
      "freq                     NaN                     NaN                   NaN   \n",
      "mean                0.340135                0.208865              0.262767   \n",
      "std                 1.644390                1.030099              0.960614   \n",
      "min                 0.000000                0.000000              0.000000   \n",
      "25%                 0.000000                0.000000              0.000000   \n",
      "50%                 0.000000                0.000000              0.000000   \n",
      "75%                 0.000000                0.000000              0.000000   \n",
      "max               228.000000              137.000000            125.000000   \n",
      "\n",
      "        Total_Uninjured Weather_Condition          Year    US_State  \n",
      "count      66306.000000             66306  66306.000000       66306  \n",
      "unique              NaN                 2           NaN          57  \n",
      "top                 NaN               Vmc           NaN  California  \n",
      "freq                NaN             61537           NaN        7014  \n",
      "mean           2.061488               NaN   1998.872229         NaN  \n",
      "std           12.988876               NaN     11.875761         NaN  \n",
      "min            0.000000               NaN   1974.000000         NaN  \n",
      "25%            0.000000               NaN   1988.000000         NaN  \n",
      "50%            1.000000               NaN   1998.000000         NaN  \n",
      "75%            2.000000               NaN   2009.000000         NaN  \n",
      "max          588.000000               NaN   2022.000000         NaN  \n"
     ]
    }
   ],
   "source": [
    "# Copy of df\n",
    "us_df3 = us_df2.copy()\n",
    "\n",
    "print(\"Shape of the dataframe:\")\n",
    "print(us_df2.shape)\n",
    "print(50*\"-\")\n",
    "print(us_df2.head())\n",
    "print(50*\"-\")\n",
    "print(us_df2.info())\n",
    "print(50*\"-\")\n",
    "print(us_df2.describe(include='all'))\n"
   ]
  },
  {
   "cell_type": "markdown",
   "metadata": {},
   "source": [
    "### 3.1 Univariate Analysis"
   ]
  },
  {
   "cell_type": "code",
   "execution_count": 163,
   "metadata": {},
   "outputs": [],
   "source": [
    "def plot_categorical(df:pd.DataFrame, col:str, title:str, xlabel:str, ylabel:str, \n",
    "                     txt_rotation:int=0, palette=None, hue=None, color=None):\n",
    "    \"\"\"\n",
    "    Function to plot categorical data\n",
    "    \n",
    "    :param df: Name of the dataframe \n",
    "    :param col: Column of intereset\n",
    "    :param title:  Title of the plot\n",
    "    :param xlabel: X label of the plot\n",
    "    :param ylabel: Y label of the plot\n",
    "    \"\"\"\n",
    "\n",
    "    # Map binary variables to Yes or No\n",
    "    # mapping = {0: 'No', 1: 'Yes'}  \n",
    "    # if df[col].dtype == 'int64':  \n",
    "    #     df[col] = df[col].map(mapping)  \n",
    "        \n",
    "    # Print summary stats\n",
    "    print(\"Data Statistics:\")\n",
    "    print(df[col].value_counts())\n",
    "    \n",
    "    # sns.countplot(x=df[col], data=df)\n",
    "    sns.barplot(x=df[col].value_counts().index, y=df[col].value_counts(),\n",
    "                palette=palette, hue=hue, color=color)\n",
    "    plt.title(title)\n",
    "    plt.xlabel(xlabel)\n",
    "    plt.ylabel(ylabel)\n",
    "    plt.xticks(rotation=txt_rotation, ha=\"right\")\n",
    "    plt.show();"
   ]
  },
  {
   "cell_type": "code",
   "execution_count": 167,
   "metadata": {},
   "outputs": [
    {
     "name": "stdout",
     "output_type": "stream",
     "text": [
      "Data Statistics:\n",
      "Injury_Severity\n",
      "Non-fatal    53940\n",
      "Fatal        11430\n",
      "Incident       696\n",
      "Minor          148\n",
      "Serious         92\n",
      "Name: count, dtype: int64\n"
     ]
    },
    {
     "data": {
      "image/png": "[encoded data removed]",
      "text/plain": [
       "<Figure size 640x480 with 1 Axes>"
      ]
     },
     "metadata": {},
     "output_type": "display_data"
    }
   ],
   "source": [
    "plot_categorical(df=us_df3, col=\"Injury_Severity\", title=\"Injury Severity\", \n",
    "                 xlabel=\"Severity Levels\", ylabel=\"Total Injured\")"
   ]
  },
  {
   "cell_type": "code",
   "execution_count": 169,
   "metadata": {},
   "outputs": [
    {
     "name": "stdout",
     "output_type": "stream",
     "text": [
      "Data Statistics:\n",
      "Aircraft_damage\n",
      "Substantial    52470\n",
      "Destroyed      12530\n",
      "Minor           1306\n",
      "Name: count, dtype: int64\n"
     ]
    },
    {
     "data": {
      "image/png": "[encoded data removed]",
      "text/plain": [
       "<Figure size 640x480 with 1 Axes>"
      ]
     },
     "metadata": {},
     "output_type": "display_data"
    }
   ],
   "source": [
    "plot_categorical(df=us_df3, col=\"Aircraft_damage\", title=\"Aircraft Damage\", \n",
    "                 xlabel=\"Damage Levels\", ylabel=\"Total\")"
   ]
  },
  {
   "cell_type": "code",
   "execution_count": 172,
   "metadata": {},
   "outputs": [
    {
     "name": "stdout",
     "output_type": "stream",
     "text": [
      "Data Statistics:\n",
      "Aircraft_Category\n",
      "Airplane             59939\n",
      "Helicopter            5823\n",
      "Gyrocraft              184\n",
      "Weight-shift           141\n",
      "Glider                  98\n",
      "Powered parachute       82\n",
      "Ultralight              26\n",
      "Blimp                    5\n",
      "Powered-lift             3\n",
      "Wsft                     3\n",
      "Rocket                   1\n",
      "Balloon                  1\n",
      "Name: count, dtype: int64\n"
     ]
    },
    {
     "data": {
      "image/png": "[encoded data removed]",
      "text/plain": [
       "<Figure size 640x480 with 1 Axes>"
      ]
     },
     "metadata": {},
     "output_type": "display_data"
    }
   ],
   "source": [
    "plot_categorical(df=us_df3, col=\"Aircraft_Category\", title=\"Types of Aircraft\", \n",
    "                 xlabel=\"Categories\", ylabel=\"Total\", txt_rotation=45)"
   ]
  },
  {
   "cell_type": "code",
   "execution_count": 178,
   "metadata": {},
   "outputs": [
    {
     "data": {
      "image/png": "[encoded data removed]",
      "text/plain": [
       "<Figure size 640x480 with 1 Axes>"
      ]
     },
     "metadata": {},
     "output_type": "display_data"
    }
   ],
   "source": [
    "# Top makes\n",
    "top_makes = us_df1[\"Make\"].value_counts().nlargest(15)\n",
    "\n",
    "sns.barplot(top_makes, color=\"steelblue\")\n",
    "plt.title(\"15 Most Popular Aircraft Makes\")\n",
    "plt.xlabel(\"Aircraft Make\")\n",
    "plt.ylabel(\"Total\")\n",
    "plt.xticks(rotation=45);\n"
   ]
  },
  {
   "cell_type": "markdown",
   "metadata": {},
   "source": [
    "### 3.2 Bivariate Analysis"
   ]
  },
  {
   "cell_type": "code",
   "execution_count": null,
   "metadata": {},
   "outputs": [],
   "source": []
  }
 ],
 "metadata": {
  "kernelspec": {
   "display_name": "moringa_venv",
   "language": "python",
   "name": "python3"
  },
  "language_info": {
   "codemirror_mode": {
    "name": "ipython",
    "version": 3
   },
   "file_extension": ".py",
   "mimetype": "text/x-python",
   "name": "python",
   "nbconvert_exporter": "python",
   "pygments_lexer": "ipython3",
   "version": "3.12.4"
  }
 },
 "nbformat": 4,
 "nbformat_minor": 2
}
